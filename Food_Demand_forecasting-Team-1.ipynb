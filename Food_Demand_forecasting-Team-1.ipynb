{
 "cells": [
  {
   "cell_type": "markdown",
   "metadata": {},
   "source": [
    "# 1.\tImport all the crucial Libraries"
   ]
  },
  {
   "cell_type": "code",
   "execution_count": 1,
   "metadata": {
    "colab": {},
    "colab_type": "code",
    "id": "XlLppFr3Xuxn"
   },
   "outputs": [],
   "source": [
    "import numpy as np\n",
    "import pandas as pd\n",
    "pd.set_option('display.max_columns', None)  \n",
    "import matplotlib.pyplot as plt\n",
    "import matplotlib.patches as mpatches\n",
    "%matplotlib inline \n",
    "import seaborn as sns\n",
    "from sklearn.datasets import load_boston\n",
    "from sklearn.preprocessing import StandardScaler\n",
    "from xgboost import XGBRegressor\n",
    "from sklearn.metrics import explained_variance_score\n",
    "from sklearn.ensemble import RandomForestClassifier\n",
    "\n",
    "import warnings\n",
    "warnings.filterwarnings('ignore')"
   ]
  },
  {
   "cell_type": "markdown",
   "metadata": {
    "colab_type": "text",
    "id": "D0zL27ZScupS"
   },
   "source": [
    "# 2.Loading & Merging of Data sets."
   ]
  },
  {
   "cell_type": "code",
   "execution_count": 2,
   "metadata": {
    "colab": {},
    "colab_type": "code",
    "id": "LJAlBb56ZYEI"
   },
   "outputs": [],
   "source": [
    "centers_data = pd.read_csv('fulfilment_center_info.csv')"
   ]
  },
  {
   "cell_type": "code",
   "execution_count": 3,
   "metadata": {
    "colab": {},
    "colab_type": "code",
    "id": "gKPem2ioaGrs"
   },
   "outputs": [],
   "source": [
    "meal_data = pd.read_csv('meal_info.csv')"
   ]
  },
  {
   "cell_type": "code",
   "execution_count": 4,
   "metadata": {
    "colab": {},
    "colab_type": "code",
    "id": "bqAk3KQ5aVtx"
   },
   "outputs": [],
   "source": [
    "train_data = pd.read_csv('train.csv')"
   ]
  },
  {
   "cell_type": "code",
   "execution_count": 5,
   "metadata": {
    "colab": {},
    "colab_type": "code",
    "id": "q9fmiSlabtgh"
   },
   "outputs": [],
   "source": [
    "test_data = pd.read_csv('test.csv')"
   ]
  },
  {
   "cell_type": "markdown",
   "metadata": {
    "colab_type": "text",
    "id": "xK70e6D7c_5K"
   },
   "source": [
    "### MERGE ORIGINAL TRAIN DATA WITH CENTER AND MEAL DATA"
   ]
  },
  {
   "cell_type": "code",
   "execution_count": 6,
   "metadata": {
    "colab": {},
    "colab_type": "code",
    "id": "OBEiyDZeciAp"
   },
   "outputs": [],
   "source": [
    "full_train = pd.merge(train_data, meal_data, on='meal_id', how='left')\n",
    "full_train = pd.merge(full_train, centers_data, on='center_id', how='left')"
   ]
  },
  {
   "cell_type": "code",
   "execution_count": 7,
   "metadata": {},
   "outputs": [
    {
     "data": {
      "text/plain": [
       "(456548, 15)"
      ]
     },
     "execution_count": 7,
     "metadata": {},
     "output_type": "execute_result"
    }
   ],
   "source": [
    "full_train.shape"
   ]
  },
  {
   "cell_type": "code",
   "execution_count": 8,
   "metadata": {
    "colab": {},
    "colab_type": "code",
    "id": "4gaaPxNMdbkW"
   },
   "outputs": [],
   "source": [
    "full_test = pd.merge(test_data, meal_data, on='meal_id', how='left')\n",
    "full_test = pd.merge(full_test, centers_data, on='center_id', how='left')"
   ]
  },
  {
   "cell_type": "code",
   "execution_count": 9,
   "metadata": {
    "colab": {
     "base_uri": "https://localhost:8080/",
     "height": 34
    },
    "colab_type": "code",
    "executionInfo": {
     "elapsed": 1907,
     "status": "ok",
     "timestamp": 1592066672877,
     "user": {
      "displayName": "Henny Davis K",
      "photoUrl": "",
      "userId": "10563083939894910689"
     },
     "user_tz": -330
    },
    "id": "LntXtJqOeThp",
    "outputId": "182e4206-0036-4553-fea3-8c1c2000302f"
   },
   "outputs": [
    {
     "data": {
      "text/plain": [
       "(32573, 14)"
      ]
     },
     "execution_count": 9,
     "metadata": {},
     "output_type": "execute_result"
    }
   ],
   "source": [
    "full_test.shape"
   ]
  },
  {
   "cell_type": "code",
   "execution_count": 10,
   "metadata": {
    "colab": {
     "base_uri": "https://localhost:8080/",
     "height": 386
    },
    "colab_type": "code",
    "executionInfo": {
     "elapsed": 1873,
     "status": "ok",
     "timestamp": 1592066672879,
     "user": {
      "displayName": "Henny Davis K",
      "photoUrl": "",
      "userId": "10563083939894910689"
     },
     "user_tz": -330
    },
    "id": "HbwiENvieoaI",
    "outputId": "d32e488d-ad1d-4b62-e6fd-5ddd2efa34ab"
   },
   "outputs": [
    {
     "name": "stdout",
     "output_type": "stream",
     "text": [
      "<class 'pandas.core.frame.DataFrame'>\n",
      "Int64Index: 456548 entries, 0 to 456547\n",
      "Data columns (total 15 columns):\n",
      "id                       456548 non-null int64\n",
      "week                     456548 non-null int64\n",
      "center_id                456548 non-null int64\n",
      "meal_id                  456548 non-null int64\n",
      "checkout_price           456548 non-null float64\n",
      "base_price               456548 non-null float64\n",
      "emailer_for_promotion    456548 non-null int64\n",
      "homepage_featured        456548 non-null int64\n",
      "num_orders               456548 non-null int64\n",
      "category                 456548 non-null object\n",
      "cuisine                  456548 non-null object\n",
      "city_code                456548 non-null int64\n",
      "region_code              456548 non-null int64\n",
      "center_type              456548 non-null object\n",
      "op_area                  456548 non-null float64\n",
      "dtypes: float64(3), int64(9), object(3)\n",
      "memory usage: 55.7+ MB\n"
     ]
    }
   ],
   "source": [
    "full_train.info()"
   ]
  },
  {
   "cell_type": "code",
   "execution_count": 11,
   "metadata": {
    "colab": {
     "base_uri": "https://localhost:8080/",
     "height": 370
    },
    "colab_type": "code",
    "executionInfo": {
     "elapsed": 1862,
     "status": "ok",
     "timestamp": 1592066672880,
     "user": {
      "displayName": "Henny Davis K",
      "photoUrl": "",
      "userId": "10563083939894910689"
     },
     "user_tz": -330
    },
    "id": "TS86bsWre47m",
    "outputId": "88c67e58-d6d7-406a-9688-728af4a550a3"
   },
   "outputs": [
    {
     "name": "stdout",
     "output_type": "stream",
     "text": [
      "<class 'pandas.core.frame.DataFrame'>\n",
      "Int64Index: 32573 entries, 0 to 32572\n",
      "Data columns (total 14 columns):\n",
      "id                       32573 non-null int64\n",
      "week                     32573 non-null int64\n",
      "center_id                32573 non-null int64\n",
      "meal_id                  32573 non-null int64\n",
      "checkout_price           32573 non-null float64\n",
      "base_price               32573 non-null float64\n",
      "emailer_for_promotion    32573 non-null int64\n",
      "homepage_featured        32573 non-null int64\n",
      "category                 32573 non-null object\n",
      "cuisine                  32573 non-null object\n",
      "city_code                32573 non-null int64\n",
      "region_code              32573 non-null int64\n",
      "center_type              32573 non-null object\n",
      "op_area                  32573 non-null float64\n",
      "dtypes: float64(3), int64(8), object(3)\n",
      "memory usage: 3.7+ MB\n"
     ]
    }
   ],
   "source": [
    "full_test.info()"
   ]
  },
  {
   "cell_type": "markdown",
   "metadata": {},
   "source": [
    "### DROPPING OF UNIMPORTANT COLUMNS"
   ]
  },
  {
   "cell_type": "code",
   "execution_count": 12,
   "metadata": {},
   "outputs": [],
   "source": [
    "full_train=full_train.drop(['center_id','meal_id'],axis=1)\n",
    "full_test=full_test.drop(['center_id','meal_id'],axis=1)"
   ]
  },
  {
   "cell_type": "code",
   "execution_count": 13,
   "metadata": {},
   "outputs": [
    {
     "name": "stdout",
     "output_type": "stream",
     "text": [
      "<class 'pandas.core.frame.DataFrame'>\n",
      "Int64Index: 456548 entries, 0 to 456547\n",
      "Data columns (total 13 columns):\n",
      "id                       456548 non-null int64\n",
      "week                     456548 non-null int64\n",
      "checkout_price           456548 non-null float64\n",
      "base_price               456548 non-null float64\n",
      "emailer_for_promotion    456548 non-null int64\n",
      "homepage_featured        456548 non-null int64\n",
      "num_orders               456548 non-null int64\n",
      "category                 456548 non-null object\n",
      "cuisine                  456548 non-null object\n",
      "city_code                456548 non-null int64\n",
      "region_code              456548 non-null int64\n",
      "center_type              456548 non-null object\n",
      "op_area                  456548 non-null float64\n",
      "dtypes: float64(3), int64(7), object(3)\n",
      "memory usage: 48.8+ MB\n"
     ]
    }
   ],
   "source": [
    "full_train.info()"
   ]
  },
  {
   "cell_type": "code",
   "execution_count": 14,
   "metadata": {},
   "outputs": [
    {
     "name": "stdout",
     "output_type": "stream",
     "text": [
      "<class 'pandas.core.frame.DataFrame'>\n",
      "Int64Index: 32573 entries, 0 to 32572\n",
      "Data columns (total 12 columns):\n",
      "id                       32573 non-null int64\n",
      "week                     32573 non-null int64\n",
      "checkout_price           32573 non-null float64\n",
      "base_price               32573 non-null float64\n",
      "emailer_for_promotion    32573 non-null int64\n",
      "homepage_featured        32573 non-null int64\n",
      "category                 32573 non-null object\n",
      "cuisine                  32573 non-null object\n",
      "city_code                32573 non-null int64\n",
      "region_code              32573 non-null int64\n",
      "center_type              32573 non-null object\n",
      "op_area                  32573 non-null float64\n",
      "dtypes: float64(3), int64(6), object(3)\n",
      "memory usage: 3.2+ MB\n"
     ]
    }
   ],
   "source": [
    "full_test.info()"
   ]
  },
  {
   "cell_type": "markdown",
   "metadata": {},
   "source": [
    "# 3.Identifying and handling the missing values"
   ]
  },
  {
   "cell_type": "code",
   "execution_count": 15,
   "metadata": {},
   "outputs": [
    {
     "data": {
      "text/plain": [
       "id                       0\n",
       "week                     0\n",
       "checkout_price           0\n",
       "base_price               0\n",
       "emailer_for_promotion    0\n",
       "homepage_featured        0\n",
       "num_orders               0\n",
       "category                 0\n",
       "cuisine                  0\n",
       "city_code                0\n",
       "region_code              0\n",
       "center_type              0\n",
       "op_area                  0\n",
       "dtype: int64"
      ]
     },
     "execution_count": 15,
     "metadata": {},
     "output_type": "execute_result"
    }
   ],
   "source": [
    "full_train.isna().sum()"
   ]
  },
  {
   "cell_type": "code",
   "execution_count": 16,
   "metadata": {},
   "outputs": [
    {
     "data": {
      "text/plain": [
       "id                       0\n",
       "week                     0\n",
       "checkout_price           0\n",
       "base_price               0\n",
       "emailer_for_promotion    0\n",
       "homepage_featured        0\n",
       "category                 0\n",
       "cuisine                  0\n",
       "city_code                0\n",
       "region_code              0\n",
       "center_type              0\n",
       "op_area                  0\n",
       "dtype: int64"
      ]
     },
     "execution_count": 16,
     "metadata": {},
     "output_type": "execute_result"
    }
   ],
   "source": [
    "full_test.isna().sum()"
   ]
  },
  {
   "cell_type": "markdown",
   "metadata": {},
   "source": [
    "# 4.Encoding the categorical data"
   ]
  },
  {
   "cell_type": "code",
   "execution_count": 17,
   "metadata": {},
   "outputs": [
    {
     "name": "stdout",
     "output_type": "stream",
     "text": [
      "<class 'pandas.core.frame.DataFrame'>\n",
      "Int64Index: 456548 entries, 0 to 456547\n",
      "Data columns (total 13 columns):\n",
      "id                       456548 non-null int64\n",
      "week                     456548 non-null int64\n",
      "checkout_price           456548 non-null float64\n",
      "base_price               456548 non-null float64\n",
      "emailer_for_promotion    456548 non-null int64\n",
      "homepage_featured        456548 non-null int64\n",
      "num_orders               456548 non-null int64\n",
      "category                 456548 non-null object\n",
      "cuisine                  456548 non-null object\n",
      "city_code                456548 non-null int64\n",
      "region_code              456548 non-null int64\n",
      "center_type              456548 non-null object\n",
      "op_area                  456548 non-null float64\n",
      "dtypes: float64(3), int64(7), object(3)\n",
      "memory usage: 48.8+ MB\n"
     ]
    }
   ],
   "source": [
    "full_train.info()"
   ]
  },
  {
   "cell_type": "code",
   "execution_count": 18,
   "metadata": {},
   "outputs": [
    {
     "data": {
      "text/plain": [
       "Beverages       127890\n",
       "Rice Bowl        33408\n",
       "Sandwich         33291\n",
       "Pizza            33138\n",
       "Starters         29941\n",
       "Other Snacks     29379\n",
       "Desert           29294\n",
       "Salad            28559\n",
       "Pasta            27694\n",
       "Seafood          26916\n",
       "Biryani          20614\n",
       "Extras           13562\n",
       "Soup             12675\n",
       "Fish             10187\n",
       "Name: category, dtype: int64"
      ]
     },
     "execution_count": 18,
     "metadata": {},
     "output_type": "execute_result"
    }
   ],
   "source": [
    "full_train.category.value_counts()"
   ]
  },
  {
   "cell_type": "code",
   "execution_count": 19,
   "metadata": {},
   "outputs": [
    {
     "data": {
      "text/plain": [
       "Italian        122925\n",
       "Thai           118216\n",
       "Indian         112612\n",
       "Continental    102795\n",
       "Name: cuisine, dtype: int64"
      ]
     },
     "execution_count": 19,
     "metadata": {},
     "output_type": "execute_result"
    }
   ],
   "source": [
    "full_train.cuisine .value_counts()"
   ]
  },
  {
   "cell_type": "code",
   "execution_count": 20,
   "metadata": {},
   "outputs": [
    {
     "data": {
      "text/plain": [
       "TYPE_A    262881\n",
       "TYPE_C     99593\n",
       "TYPE_B     94074\n",
       "Name: center_type, dtype: int64"
      ]
     },
     "execution_count": 20,
     "metadata": {},
     "output_type": "execute_result"
    }
   ],
   "source": [
    "full_train.center_type.value_counts()"
   ]
  },
  {
   "cell_type": "code",
   "execution_count": 21,
   "metadata": {},
   "outputs": [
    {
     "data": {
      "text/plain": [
       "(456548, 13)"
      ]
     },
     "execution_count": 21,
     "metadata": {},
     "output_type": "execute_result"
    }
   ],
   "source": [
    "\n",
    "full_train.shape"
   ]
  },
  {
   "cell_type": "code",
   "execution_count": 22,
   "metadata": {},
   "outputs": [],
   "source": [
    "category=pd.get_dummies(full_train.category)\n",
    "cuisine=pd.get_dummies(full_train.cuisine)\n",
    "center=pd.get_dummies(full_train.center_type)"
   ]
  },
  {
   "cell_type": "code",
   "execution_count": 23,
   "metadata": {},
   "outputs": [
    {
     "data": {
      "text/plain": [
       "(456548, 13)"
      ]
     },
     "execution_count": 23,
     "metadata": {},
     "output_type": "execute_result"
    }
   ],
   "source": [
    "full_train.shape"
   ]
  },
  {
   "cell_type": "code",
   "execution_count": 24,
   "metadata": {},
   "outputs": [],
   "source": [
    "full_train=pd.concat([full_train,category,cuisine,center],axis=1)\n",
    "full_train=full_train.drop(['category','cuisine','center_type'],axis=1)\n"
   ]
  },
  {
   "cell_type": "code",
   "execution_count": 25,
   "metadata": {},
   "outputs": [
    {
     "data": {
      "text/plain": [
       "(456548, 31)"
      ]
     },
     "execution_count": 25,
     "metadata": {},
     "output_type": "execute_result"
    }
   ],
   "source": [
    "full_train.shape"
   ]
  },
  {
   "cell_type": "code",
   "execution_count": 26,
   "metadata": {},
   "outputs": [
    {
     "data": {
      "text/html": [
       "<div>\n",
       "<style scoped>\n",
       "    .dataframe tbody tr th:only-of-type {\n",
       "        vertical-align: middle;\n",
       "    }\n",
       "\n",
       "    .dataframe tbody tr th {\n",
       "        vertical-align: top;\n",
       "    }\n",
       "\n",
       "    .dataframe thead th {\n",
       "        text-align: right;\n",
       "    }\n",
       "</style>\n",
       "<table border=\"1\" class=\"dataframe\">\n",
       "  <thead>\n",
       "    <tr style=\"text-align: right;\">\n",
       "      <th></th>\n",
       "      <th>id</th>\n",
       "      <th>week</th>\n",
       "      <th>checkout_price</th>\n",
       "      <th>base_price</th>\n",
       "      <th>emailer_for_promotion</th>\n",
       "      <th>homepage_featured</th>\n",
       "      <th>num_orders</th>\n",
       "      <th>city_code</th>\n",
       "      <th>region_code</th>\n",
       "      <th>op_area</th>\n",
       "      <th>Beverages</th>\n",
       "      <th>Biryani</th>\n",
       "      <th>Desert</th>\n",
       "      <th>Extras</th>\n",
       "      <th>Fish</th>\n",
       "      <th>Other Snacks</th>\n",
       "      <th>Pasta</th>\n",
       "      <th>Pizza</th>\n",
       "      <th>Rice Bowl</th>\n",
       "      <th>Salad</th>\n",
       "      <th>Sandwich</th>\n",
       "      <th>Seafood</th>\n",
       "      <th>Soup</th>\n",
       "      <th>Starters</th>\n",
       "      <th>Continental</th>\n",
       "      <th>Indian</th>\n",
       "      <th>Italian</th>\n",
       "      <th>Thai</th>\n",
       "      <th>TYPE_A</th>\n",
       "      <th>TYPE_B</th>\n",
       "      <th>TYPE_C</th>\n",
       "    </tr>\n",
       "  </thead>\n",
       "  <tbody>\n",
       "    <tr>\n",
       "      <td>0</td>\n",
       "      <td>1379560</td>\n",
       "      <td>1</td>\n",
       "      <td>136.83</td>\n",
       "      <td>152.29</td>\n",
       "      <td>0</td>\n",
       "      <td>0</td>\n",
       "      <td>177</td>\n",
       "      <td>647</td>\n",
       "      <td>56</td>\n",
       "      <td>2.0</td>\n",
       "      <td>1</td>\n",
       "      <td>0</td>\n",
       "      <td>0</td>\n",
       "      <td>0</td>\n",
       "      <td>0</td>\n",
       "      <td>0</td>\n",
       "      <td>0</td>\n",
       "      <td>0</td>\n",
       "      <td>0</td>\n",
       "      <td>0</td>\n",
       "      <td>0</td>\n",
       "      <td>0</td>\n",
       "      <td>0</td>\n",
       "      <td>0</td>\n",
       "      <td>0</td>\n",
       "      <td>0</td>\n",
       "      <td>0</td>\n",
       "      <td>1</td>\n",
       "      <td>0</td>\n",
       "      <td>0</td>\n",
       "      <td>1</td>\n",
       "    </tr>\n",
       "    <tr>\n",
       "      <td>1</td>\n",
       "      <td>1466964</td>\n",
       "      <td>1</td>\n",
       "      <td>136.83</td>\n",
       "      <td>135.83</td>\n",
       "      <td>0</td>\n",
       "      <td>0</td>\n",
       "      <td>270</td>\n",
       "      <td>647</td>\n",
       "      <td>56</td>\n",
       "      <td>2.0</td>\n",
       "      <td>1</td>\n",
       "      <td>0</td>\n",
       "      <td>0</td>\n",
       "      <td>0</td>\n",
       "      <td>0</td>\n",
       "      <td>0</td>\n",
       "      <td>0</td>\n",
       "      <td>0</td>\n",
       "      <td>0</td>\n",
       "      <td>0</td>\n",
       "      <td>0</td>\n",
       "      <td>0</td>\n",
       "      <td>0</td>\n",
       "      <td>0</td>\n",
       "      <td>0</td>\n",
       "      <td>0</td>\n",
       "      <td>0</td>\n",
       "      <td>1</td>\n",
       "      <td>0</td>\n",
       "      <td>0</td>\n",
       "      <td>1</td>\n",
       "    </tr>\n",
       "    <tr>\n",
       "      <td>2</td>\n",
       "      <td>1346989</td>\n",
       "      <td>1</td>\n",
       "      <td>134.86</td>\n",
       "      <td>135.86</td>\n",
       "      <td>0</td>\n",
       "      <td>0</td>\n",
       "      <td>189</td>\n",
       "      <td>647</td>\n",
       "      <td>56</td>\n",
       "      <td>2.0</td>\n",
       "      <td>1</td>\n",
       "      <td>0</td>\n",
       "      <td>0</td>\n",
       "      <td>0</td>\n",
       "      <td>0</td>\n",
       "      <td>0</td>\n",
       "      <td>0</td>\n",
       "      <td>0</td>\n",
       "      <td>0</td>\n",
       "      <td>0</td>\n",
       "      <td>0</td>\n",
       "      <td>0</td>\n",
       "      <td>0</td>\n",
       "      <td>0</td>\n",
       "      <td>0</td>\n",
       "      <td>0</td>\n",
       "      <td>0</td>\n",
       "      <td>1</td>\n",
       "      <td>0</td>\n",
       "      <td>0</td>\n",
       "      <td>1</td>\n",
       "    </tr>\n",
       "    <tr>\n",
       "      <td>3</td>\n",
       "      <td>1338232</td>\n",
       "      <td>1</td>\n",
       "      <td>339.50</td>\n",
       "      <td>437.53</td>\n",
       "      <td>0</td>\n",
       "      <td>0</td>\n",
       "      <td>54</td>\n",
       "      <td>647</td>\n",
       "      <td>56</td>\n",
       "      <td>2.0</td>\n",
       "      <td>1</td>\n",
       "      <td>0</td>\n",
       "      <td>0</td>\n",
       "      <td>0</td>\n",
       "      <td>0</td>\n",
       "      <td>0</td>\n",
       "      <td>0</td>\n",
       "      <td>0</td>\n",
       "      <td>0</td>\n",
       "      <td>0</td>\n",
       "      <td>0</td>\n",
       "      <td>0</td>\n",
       "      <td>0</td>\n",
       "      <td>0</td>\n",
       "      <td>0</td>\n",
       "      <td>1</td>\n",
       "      <td>0</td>\n",
       "      <td>0</td>\n",
       "      <td>0</td>\n",
       "      <td>0</td>\n",
       "      <td>1</td>\n",
       "    </tr>\n",
       "    <tr>\n",
       "      <td>4</td>\n",
       "      <td>1448490</td>\n",
       "      <td>1</td>\n",
       "      <td>243.50</td>\n",
       "      <td>242.50</td>\n",
       "      <td>0</td>\n",
       "      <td>0</td>\n",
       "      <td>40</td>\n",
       "      <td>647</td>\n",
       "      <td>56</td>\n",
       "      <td>2.0</td>\n",
       "      <td>1</td>\n",
       "      <td>0</td>\n",
       "      <td>0</td>\n",
       "      <td>0</td>\n",
       "      <td>0</td>\n",
       "      <td>0</td>\n",
       "      <td>0</td>\n",
       "      <td>0</td>\n",
       "      <td>0</td>\n",
       "      <td>0</td>\n",
       "      <td>0</td>\n",
       "      <td>0</td>\n",
       "      <td>0</td>\n",
       "      <td>0</td>\n",
       "      <td>0</td>\n",
       "      <td>1</td>\n",
       "      <td>0</td>\n",
       "      <td>0</td>\n",
       "      <td>0</td>\n",
       "      <td>0</td>\n",
       "      <td>1</td>\n",
       "    </tr>\n",
       "    <tr>\n",
       "      <td>...</td>\n",
       "      <td>...</td>\n",
       "      <td>...</td>\n",
       "      <td>...</td>\n",
       "      <td>...</td>\n",
       "      <td>...</td>\n",
       "      <td>...</td>\n",
       "      <td>...</td>\n",
       "      <td>...</td>\n",
       "      <td>...</td>\n",
       "      <td>...</td>\n",
       "      <td>...</td>\n",
       "      <td>...</td>\n",
       "      <td>...</td>\n",
       "      <td>...</td>\n",
       "      <td>...</td>\n",
       "      <td>...</td>\n",
       "      <td>...</td>\n",
       "      <td>...</td>\n",
       "      <td>...</td>\n",
       "      <td>...</td>\n",
       "      <td>...</td>\n",
       "      <td>...</td>\n",
       "      <td>...</td>\n",
       "      <td>...</td>\n",
       "      <td>...</td>\n",
       "      <td>...</td>\n",
       "      <td>...</td>\n",
       "      <td>...</td>\n",
       "      <td>...</td>\n",
       "      <td>...</td>\n",
       "      <td>...</td>\n",
       "    </tr>\n",
       "    <tr>\n",
       "      <td>456543</td>\n",
       "      <td>1271326</td>\n",
       "      <td>145</td>\n",
       "      <td>484.09</td>\n",
       "      <td>484.09</td>\n",
       "      <td>0</td>\n",
       "      <td>0</td>\n",
       "      <td>68</td>\n",
       "      <td>473</td>\n",
       "      <td>77</td>\n",
       "      <td>4.5</td>\n",
       "      <td>0</td>\n",
       "      <td>0</td>\n",
       "      <td>1</td>\n",
       "      <td>0</td>\n",
       "      <td>0</td>\n",
       "      <td>0</td>\n",
       "      <td>0</td>\n",
       "      <td>0</td>\n",
       "      <td>0</td>\n",
       "      <td>0</td>\n",
       "      <td>0</td>\n",
       "      <td>0</td>\n",
       "      <td>0</td>\n",
       "      <td>0</td>\n",
       "      <td>0</td>\n",
       "      <td>1</td>\n",
       "      <td>0</td>\n",
       "      <td>0</td>\n",
       "      <td>1</td>\n",
       "      <td>0</td>\n",
       "      <td>0</td>\n",
       "    </tr>\n",
       "    <tr>\n",
       "      <td>456544</td>\n",
       "      <td>1062036</td>\n",
       "      <td>145</td>\n",
       "      <td>482.09</td>\n",
       "      <td>482.09</td>\n",
       "      <td>0</td>\n",
       "      <td>0</td>\n",
       "      <td>42</td>\n",
       "      <td>473</td>\n",
       "      <td>77</td>\n",
       "      <td>4.5</td>\n",
       "      <td>0</td>\n",
       "      <td>0</td>\n",
       "      <td>1</td>\n",
       "      <td>0</td>\n",
       "      <td>0</td>\n",
       "      <td>0</td>\n",
       "      <td>0</td>\n",
       "      <td>0</td>\n",
       "      <td>0</td>\n",
       "      <td>0</td>\n",
       "      <td>0</td>\n",
       "      <td>0</td>\n",
       "      <td>0</td>\n",
       "      <td>0</td>\n",
       "      <td>0</td>\n",
       "      <td>1</td>\n",
       "      <td>0</td>\n",
       "      <td>0</td>\n",
       "      <td>1</td>\n",
       "      <td>0</td>\n",
       "      <td>0</td>\n",
       "    </tr>\n",
       "    <tr>\n",
       "      <td>456545</td>\n",
       "      <td>1110849</td>\n",
       "      <td>145</td>\n",
       "      <td>237.68</td>\n",
       "      <td>321.07</td>\n",
       "      <td>0</td>\n",
       "      <td>0</td>\n",
       "      <td>501</td>\n",
       "      <td>473</td>\n",
       "      <td>77</td>\n",
       "      <td>4.5</td>\n",
       "      <td>0</td>\n",
       "      <td>0</td>\n",
       "      <td>0</td>\n",
       "      <td>0</td>\n",
       "      <td>0</td>\n",
       "      <td>0</td>\n",
       "      <td>0</td>\n",
       "      <td>0</td>\n",
       "      <td>0</td>\n",
       "      <td>1</td>\n",
       "      <td>0</td>\n",
       "      <td>0</td>\n",
       "      <td>0</td>\n",
       "      <td>0</td>\n",
       "      <td>0</td>\n",
       "      <td>0</td>\n",
       "      <td>1</td>\n",
       "      <td>0</td>\n",
       "      <td>1</td>\n",
       "      <td>0</td>\n",
       "      <td>0</td>\n",
       "    </tr>\n",
       "    <tr>\n",
       "      <td>456546</td>\n",
       "      <td>1147725</td>\n",
       "      <td>145</td>\n",
       "      <td>243.50</td>\n",
       "      <td>313.34</td>\n",
       "      <td>0</td>\n",
       "      <td>0</td>\n",
       "      <td>729</td>\n",
       "      <td>473</td>\n",
       "      <td>77</td>\n",
       "      <td>4.5</td>\n",
       "      <td>0</td>\n",
       "      <td>0</td>\n",
       "      <td>0</td>\n",
       "      <td>0</td>\n",
       "      <td>0</td>\n",
       "      <td>0</td>\n",
       "      <td>0</td>\n",
       "      <td>0</td>\n",
       "      <td>0</td>\n",
       "      <td>1</td>\n",
       "      <td>0</td>\n",
       "      <td>0</td>\n",
       "      <td>0</td>\n",
       "      <td>0</td>\n",
       "      <td>0</td>\n",
       "      <td>0</td>\n",
       "      <td>1</td>\n",
       "      <td>0</td>\n",
       "      <td>1</td>\n",
       "      <td>0</td>\n",
       "      <td>0</td>\n",
       "    </tr>\n",
       "    <tr>\n",
       "      <td>456547</td>\n",
       "      <td>1361984</td>\n",
       "      <td>145</td>\n",
       "      <td>292.03</td>\n",
       "      <td>290.03</td>\n",
       "      <td>0</td>\n",
       "      <td>0</td>\n",
       "      <td>162</td>\n",
       "      <td>473</td>\n",
       "      <td>77</td>\n",
       "      <td>4.5</td>\n",
       "      <td>0</td>\n",
       "      <td>0</td>\n",
       "      <td>0</td>\n",
       "      <td>0</td>\n",
       "      <td>0</td>\n",
       "      <td>0</td>\n",
       "      <td>0</td>\n",
       "      <td>0</td>\n",
       "      <td>0</td>\n",
       "      <td>1</td>\n",
       "      <td>0</td>\n",
       "      <td>0</td>\n",
       "      <td>0</td>\n",
       "      <td>0</td>\n",
       "      <td>0</td>\n",
       "      <td>0</td>\n",
       "      <td>1</td>\n",
       "      <td>0</td>\n",
       "      <td>1</td>\n",
       "      <td>0</td>\n",
       "      <td>0</td>\n",
       "    </tr>\n",
       "  </tbody>\n",
       "</table>\n",
       "<p>456548 rows × 31 columns</p>\n",
       "</div>"
      ],
      "text/plain": [
       "             id  week  checkout_price  base_price  emailer_for_promotion  \\\n",
       "0       1379560     1          136.83      152.29                      0   \n",
       "1       1466964     1          136.83      135.83                      0   \n",
       "2       1346989     1          134.86      135.86                      0   \n",
       "3       1338232     1          339.50      437.53                      0   \n",
       "4       1448490     1          243.50      242.50                      0   \n",
       "...         ...   ...             ...         ...                    ...   \n",
       "456543  1271326   145          484.09      484.09                      0   \n",
       "456544  1062036   145          482.09      482.09                      0   \n",
       "456545  1110849   145          237.68      321.07                      0   \n",
       "456546  1147725   145          243.50      313.34                      0   \n",
       "456547  1361984   145          292.03      290.03                      0   \n",
       "\n",
       "        homepage_featured  num_orders  city_code  region_code  op_area  \\\n",
       "0                       0         177        647           56      2.0   \n",
       "1                       0         270        647           56      2.0   \n",
       "2                       0         189        647           56      2.0   \n",
       "3                       0          54        647           56      2.0   \n",
       "4                       0          40        647           56      2.0   \n",
       "...                   ...         ...        ...          ...      ...   \n",
       "456543                  0          68        473           77      4.5   \n",
       "456544                  0          42        473           77      4.5   \n",
       "456545                  0         501        473           77      4.5   \n",
       "456546                  0         729        473           77      4.5   \n",
       "456547                  0         162        473           77      4.5   \n",
       "\n",
       "        Beverages  Biryani  Desert  Extras  Fish  Other Snacks  Pasta  Pizza  \\\n",
       "0               1        0       0       0     0             0      0      0   \n",
       "1               1        0       0       0     0             0      0      0   \n",
       "2               1        0       0       0     0             0      0      0   \n",
       "3               1        0       0       0     0             0      0      0   \n",
       "4               1        0       0       0     0             0      0      0   \n",
       "...           ...      ...     ...     ...   ...           ...    ...    ...   \n",
       "456543          0        0       1       0     0             0      0      0   \n",
       "456544          0        0       1       0     0             0      0      0   \n",
       "456545          0        0       0       0     0             0      0      0   \n",
       "456546          0        0       0       0     0             0      0      0   \n",
       "456547          0        0       0       0     0             0      0      0   \n",
       "\n",
       "        Rice Bowl  Salad  Sandwich  Seafood  Soup  Starters  Continental  \\\n",
       "0               0      0         0        0     0         0            0   \n",
       "1               0      0         0        0     0         0            0   \n",
       "2               0      0         0        0     0         0            0   \n",
       "3               0      0         0        0     0         0            0   \n",
       "4               0      0         0        0     0         0            0   \n",
       "...           ...    ...       ...      ...   ...       ...          ...   \n",
       "456543          0      0         0        0     0         0            0   \n",
       "456544          0      0         0        0     0         0            0   \n",
       "456545          0      1         0        0     0         0            0   \n",
       "456546          0      1         0        0     0         0            0   \n",
       "456547          0      1         0        0     0         0            0   \n",
       "\n",
       "        Indian  Italian  Thai  TYPE_A  TYPE_B  TYPE_C  \n",
       "0            0        0     1       0       0       1  \n",
       "1            0        0     1       0       0       1  \n",
       "2            0        0     1       0       0       1  \n",
       "3            1        0     0       0       0       1  \n",
       "4            1        0     0       0       0       1  \n",
       "...        ...      ...   ...     ...     ...     ...  \n",
       "456543       1        0     0       1       0       0  \n",
       "456544       1        0     0       1       0       0  \n",
       "456545       0        1     0       1       0       0  \n",
       "456546       0        1     0       1       0       0  \n",
       "456547       0        1     0       1       0       0  \n",
       "\n",
       "[456548 rows x 31 columns]"
      ]
     },
     "execution_count": 26,
     "metadata": {},
     "output_type": "execute_result"
    }
   ],
   "source": [
    "full_train"
   ]
  },
  {
   "cell_type": "code",
   "execution_count": 27,
   "metadata": {},
   "outputs": [
    {
     "name": "stdout",
     "output_type": "stream",
     "text": [
      "<class 'pandas.core.frame.DataFrame'>\n",
      "Int64Index: 456548 entries, 0 to 456547\n",
      "Data columns (total 31 columns):\n",
      "id                       456548 non-null int64\n",
      "week                     456548 non-null int64\n",
      "checkout_price           456548 non-null float64\n",
      "base_price               456548 non-null float64\n",
      "emailer_for_promotion    456548 non-null int64\n",
      "homepage_featured        456548 non-null int64\n",
      "num_orders               456548 non-null int64\n",
      "city_code                456548 non-null int64\n",
      "region_code              456548 non-null int64\n",
      "op_area                  456548 non-null float64\n",
      "Beverages                456548 non-null uint8\n",
      "Biryani                  456548 non-null uint8\n",
      "Desert                   456548 non-null uint8\n",
      "Extras                   456548 non-null uint8\n",
      "Fish                     456548 non-null uint8\n",
      "Other Snacks             456548 non-null uint8\n",
      "Pasta                    456548 non-null uint8\n",
      "Pizza                    456548 non-null uint8\n",
      "Rice Bowl                456548 non-null uint8\n",
      "Salad                    456548 non-null uint8\n",
      "Sandwich                 456548 non-null uint8\n",
      "Seafood                  456548 non-null uint8\n",
      "Soup                     456548 non-null uint8\n",
      "Starters                 456548 non-null uint8\n",
      "Continental              456548 non-null uint8\n",
      "Indian                   456548 non-null uint8\n",
      "Italian                  456548 non-null uint8\n",
      "Thai                     456548 non-null uint8\n",
      "TYPE_A                   456548 non-null uint8\n",
      "TYPE_B                   456548 non-null uint8\n",
      "TYPE_C                   456548 non-null uint8\n",
      "dtypes: float64(3), int64(7), uint8(21)\n",
      "memory usage: 47.5 MB\n"
     ]
    }
   ],
   "source": [
    "full_train.info()"
   ]
  },
  {
   "cell_type": "code",
   "execution_count": 28,
   "metadata": {},
   "outputs": [
    {
     "name": "stdout",
     "output_type": "stream",
     "text": [
      "<class 'pandas.core.frame.DataFrame'>\n",
      "Int64Index: 32573 entries, 0 to 32572\n",
      "Data columns (total 12 columns):\n",
      "id                       32573 non-null int64\n",
      "week                     32573 non-null int64\n",
      "checkout_price           32573 non-null float64\n",
      "base_price               32573 non-null float64\n",
      "emailer_for_promotion    32573 non-null int64\n",
      "homepage_featured        32573 non-null int64\n",
      "category                 32573 non-null object\n",
      "cuisine                  32573 non-null object\n",
      "city_code                32573 non-null int64\n",
      "region_code              32573 non-null int64\n",
      "center_type              32573 non-null object\n",
      "op_area                  32573 non-null float64\n",
      "dtypes: float64(3), int64(6), object(3)\n",
      "memory usage: 3.2+ MB\n"
     ]
    }
   ],
   "source": [
    "full_test.info()"
   ]
  },
  {
   "cell_type": "code",
   "execution_count": 29,
   "metadata": {},
   "outputs": [],
   "source": [
    "category=pd.get_dummies(full_test.category)\n",
    "cuisine=pd.get_dummies(full_test.cuisine)\n",
    "center=pd.get_dummies(full_test.center_type)"
   ]
  },
  {
   "cell_type": "code",
   "execution_count": 30,
   "metadata": {},
   "outputs": [
    {
     "data": {
      "text/plain": [
       "(32573, 12)"
      ]
     },
     "execution_count": 30,
     "metadata": {},
     "output_type": "execute_result"
    }
   ],
   "source": [
    "full_test.shape"
   ]
  },
  {
   "cell_type": "code",
   "execution_count": 31,
   "metadata": {},
   "outputs": [],
   "source": [
    "full_test=pd.concat([full_test,category,cuisine,center],axis=1)\n",
    "full_test=full_test.drop(['category','cuisine','center_type'],axis=1)\n"
   ]
  },
  {
   "cell_type": "code",
   "execution_count": 32,
   "metadata": {},
   "outputs": [
    {
     "data": {
      "text/plain": [
       "(32573, 30)"
      ]
     },
     "execution_count": 32,
     "metadata": {},
     "output_type": "execute_result"
    }
   ],
   "source": [
    "full_test.shape"
   ]
  },
  {
   "cell_type": "code",
   "execution_count": 33,
   "metadata": {},
   "outputs": [
    {
     "name": "stdout",
     "output_type": "stream",
     "text": [
      "<class 'pandas.core.frame.DataFrame'>\n",
      "Int64Index: 32573 entries, 0 to 32572\n",
      "Data columns (total 30 columns):\n",
      "id                       32573 non-null int64\n",
      "week                     32573 non-null int64\n",
      "checkout_price           32573 non-null float64\n",
      "base_price               32573 non-null float64\n",
      "emailer_for_promotion    32573 non-null int64\n",
      "homepage_featured        32573 non-null int64\n",
      "city_code                32573 non-null int64\n",
      "region_code              32573 non-null int64\n",
      "op_area                  32573 non-null float64\n",
      "Beverages                32573 non-null uint8\n",
      "Biryani                  32573 non-null uint8\n",
      "Desert                   32573 non-null uint8\n",
      "Extras                   32573 non-null uint8\n",
      "Fish                     32573 non-null uint8\n",
      "Other Snacks             32573 non-null uint8\n",
      "Pasta                    32573 non-null uint8\n",
      "Pizza                    32573 non-null uint8\n",
      "Rice Bowl                32573 non-null uint8\n",
      "Salad                    32573 non-null uint8\n",
      "Sandwich                 32573 non-null uint8\n",
      "Seafood                  32573 non-null uint8\n",
      "Soup                     32573 non-null uint8\n",
      "Starters                 32573 non-null uint8\n",
      "Continental              32573 non-null uint8\n",
      "Indian                   32573 non-null uint8\n",
      "Italian                  32573 non-null uint8\n",
      "Thai                     32573 non-null uint8\n",
      "TYPE_A                   32573 non-null uint8\n",
      "TYPE_B                   32573 non-null uint8\n",
      "TYPE_C                   32573 non-null uint8\n",
      "dtypes: float64(3), int64(6), uint8(21)\n",
      "memory usage: 3.1 MB\n"
     ]
    }
   ],
   "source": [
    "full_test.info()"
   ]
  },
  {
   "cell_type": "markdown",
   "metadata": {},
   "source": [
    "# 5.Splitting the dataset"
   ]
  },
  {
   "cell_type": "markdown",
   "metadata": {
    "colab_type": "text",
    "id": "0nftRSo5fmob"
   },
   "source": [
    "### DEFINING X_train, Y_train, X_test and Y_test"
   ]
  },
  {
   "cell_type": "code",
   "execution_count": 34,
   "metadata": {},
   "outputs": [
    {
     "data": {
      "text/plain": [
       "(456548, 31)"
      ]
     },
     "execution_count": 34,
     "metadata": {},
     "output_type": "execute_result"
    }
   ],
   "source": [
    "full_train.shape"
   ]
  },
  {
   "cell_type": "code",
   "execution_count": 35,
   "metadata": {},
   "outputs": [],
   "source": [
    "train = full_train[full_train['week'] <= 130].copy()\n",
    "val   = full_train[(full_train['week'] >= 131) & (full_train['week'] <= 140)].copy()\n",
    "test  = full_train[(full_train['week'] >= 141) & (full_train\n",
    "                                                  ['week'] <= 145)].copy()"
   ]
  },
  {
   "cell_type": "code",
   "execution_count": 36,
   "metadata": {},
   "outputs": [
    {
     "name": "stdout",
     "output_type": "stream",
     "text": [
      "<class 'pandas.core.frame.DataFrame'>\n",
      "Int64Index: 407243 entries, 0 to 407242\n",
      "Data columns (total 31 columns):\n",
      "id                       407243 non-null int64\n",
      "week                     407243 non-null int64\n",
      "checkout_price           407243 non-null float64\n",
      "base_price               407243 non-null float64\n",
      "emailer_for_promotion    407243 non-null int64\n",
      "homepage_featured        407243 non-null int64\n",
      "num_orders               407243 non-null int64\n",
      "city_code                407243 non-null int64\n",
      "region_code              407243 non-null int64\n",
      "op_area                  407243 non-null float64\n",
      "Beverages                407243 non-null uint8\n",
      "Biryani                  407243 non-null uint8\n",
      "Desert                   407243 non-null uint8\n",
      "Extras                   407243 non-null uint8\n",
      "Fish                     407243 non-null uint8\n",
      "Other Snacks             407243 non-null uint8\n",
      "Pasta                    407243 non-null uint8\n",
      "Pizza                    407243 non-null uint8\n",
      "Rice Bowl                407243 non-null uint8\n",
      "Salad                    407243 non-null uint8\n",
      "Sandwich                 407243 non-null uint8\n",
      "Seafood                  407243 non-null uint8\n",
      "Soup                     407243 non-null uint8\n",
      "Starters                 407243 non-null uint8\n",
      "Continental              407243 non-null uint8\n",
      "Indian                   407243 non-null uint8\n",
      "Italian                  407243 non-null uint8\n",
      "Thai                     407243 non-null uint8\n",
      "TYPE_A                   407243 non-null uint8\n",
      "TYPE_B                   407243 non-null uint8\n",
      "TYPE_C                   407243 non-null uint8\n",
      "dtypes: float64(3), int64(7), uint8(21)\n",
      "memory usage: 42.3 MB\n"
     ]
    }
   ],
   "source": [
    "train.info()"
   ]
  },
  {
   "cell_type": "code",
   "execution_count": 37,
   "metadata": {},
   "outputs": [
    {
     "data": {
      "text/plain": [
       "(32929, 31)"
      ]
     },
     "execution_count": 37,
     "metadata": {},
     "output_type": "execute_result"
    }
   ],
   "source": [
    "val.shape"
   ]
  },
  {
   "cell_type": "code",
   "execution_count": 38,
   "metadata": {},
   "outputs": [
    {
     "data": {
      "text/plain": [
       "(16376, 31)"
      ]
     },
     "execution_count": 38,
     "metadata": {},
     "output_type": "execute_result"
    }
   ],
   "source": [
    "test.shape"
   ]
  },
  {
   "cell_type": "code",
   "execution_count": 39,
   "metadata": {},
   "outputs": [],
   "source": [
    "X_train=val.drop(['id','num_orders','week'],axis=1)\n",
    "Y_train=np.log(val['num_orders']) #Applying Log Transformation on the Target Feature\n",
    "\n",
    "X_test=val.drop(['id','num_orders','week'],axis=1)\n",
    "Y_test=np.log(val['num_orders']) #Applying Log Transformation on the Target Feature\n"
   ]
  },
  {
   "cell_type": "code",
   "execution_count": 40,
   "metadata": {},
   "outputs": [
    {
     "name": "stdout",
     "output_type": "stream",
     "text": [
      "<class 'pandas.core.frame.DataFrame'>\n",
      "Int64Index: 32929 entries, 407243 to 440171\n",
      "Data columns (total 31 columns):\n",
      "id                       32929 non-null int64\n",
      "week                     32929 non-null int64\n",
      "checkout_price           32929 non-null float64\n",
      "base_price               32929 non-null float64\n",
      "emailer_for_promotion    32929 non-null int64\n",
      "homepage_featured        32929 non-null int64\n",
      "num_orders               32929 non-null int64\n",
      "city_code                32929 non-null int64\n",
      "region_code              32929 non-null int64\n",
      "op_area                  32929 non-null float64\n",
      "Beverages                32929 non-null uint8\n",
      "Biryani                  32929 non-null uint8\n",
      "Desert                   32929 non-null uint8\n",
      "Extras                   32929 non-null uint8\n",
      "Fish                     32929 non-null uint8\n",
      "Other Snacks             32929 non-null uint8\n",
      "Pasta                    32929 non-null uint8\n",
      "Pizza                    32929 non-null uint8\n",
      "Rice Bowl                32929 non-null uint8\n",
      "Salad                    32929 non-null uint8\n",
      "Sandwich                 32929 non-null uint8\n",
      "Seafood                  32929 non-null uint8\n",
      "Soup                     32929 non-null uint8\n",
      "Starters                 32929 non-null uint8\n",
      "Continental              32929 non-null uint8\n",
      "Indian                   32929 non-null uint8\n",
      "Italian                  32929 non-null uint8\n",
      "Thai                     32929 non-null uint8\n",
      "TYPE_A                   32929 non-null uint8\n",
      "TYPE_B                   32929 non-null uint8\n",
      "TYPE_C                   32929 non-null uint8\n",
      "dtypes: float64(3), int64(7), uint8(21)\n",
      "memory usage: 3.4 MB\n"
     ]
    }
   ],
   "source": [
    "val.info()"
   ]
  },
  {
   "cell_type": "code",
   "execution_count": 41,
   "metadata": {},
   "outputs": [
    {
     "data": {
      "text/plain": [
       "(32929, 28)"
      ]
     },
     "execution_count": 41,
     "metadata": {},
     "output_type": "execute_result"
    }
   ],
   "source": [
    "X_train.shape"
   ]
  },
  {
   "cell_type": "code",
   "execution_count": 42,
   "metadata": {},
   "outputs": [
    {
     "data": {
      "text/plain": [
       "(32929,)"
      ]
     },
     "execution_count": 42,
     "metadata": {},
     "output_type": "execute_result"
    }
   ],
   "source": [
    "Y_train.shape"
   ]
  },
  {
   "cell_type": "code",
   "execution_count": 43,
   "metadata": {},
   "outputs": [
    {
     "data": {
      "text/html": [
       "<div>\n",
       "<style scoped>\n",
       "    .dataframe tbody tr th:only-of-type {\n",
       "        vertical-align: middle;\n",
       "    }\n",
       "\n",
       "    .dataframe tbody tr th {\n",
       "        vertical-align: top;\n",
       "    }\n",
       "\n",
       "    .dataframe thead th {\n",
       "        text-align: right;\n",
       "    }\n",
       "</style>\n",
       "<table border=\"1\" class=\"dataframe\">\n",
       "  <thead>\n",
       "    <tr style=\"text-align: right;\">\n",
       "      <th></th>\n",
       "      <th>id</th>\n",
       "      <th>week</th>\n",
       "      <th>checkout_price</th>\n",
       "      <th>base_price</th>\n",
       "      <th>emailer_for_promotion</th>\n",
       "      <th>homepage_featured</th>\n",
       "      <th>num_orders</th>\n",
       "      <th>city_code</th>\n",
       "      <th>region_code</th>\n",
       "      <th>op_area</th>\n",
       "      <th>Beverages</th>\n",
       "      <th>Biryani</th>\n",
       "      <th>Desert</th>\n",
       "      <th>Extras</th>\n",
       "      <th>Fish</th>\n",
       "      <th>Other Snacks</th>\n",
       "      <th>Pasta</th>\n",
       "      <th>Pizza</th>\n",
       "      <th>Rice Bowl</th>\n",
       "      <th>Salad</th>\n",
       "      <th>Sandwich</th>\n",
       "      <th>Seafood</th>\n",
       "      <th>Soup</th>\n",
       "      <th>Starters</th>\n",
       "      <th>Continental</th>\n",
       "      <th>Indian</th>\n",
       "      <th>Italian</th>\n",
       "      <th>Thai</th>\n",
       "      <th>TYPE_A</th>\n",
       "      <th>TYPE_B</th>\n",
       "      <th>TYPE_C</th>\n",
       "    </tr>\n",
       "  </thead>\n",
       "  <tbody>\n",
       "    <tr>\n",
       "      <td>count</td>\n",
       "      <td>4.565480e+05</td>\n",
       "      <td>456548.000000</td>\n",
       "      <td>456548.000000</td>\n",
       "      <td>456548.000000</td>\n",
       "      <td>456548.000000</td>\n",
       "      <td>456548.00000</td>\n",
       "      <td>456548.000000</td>\n",
       "      <td>456548.000000</td>\n",
       "      <td>456548.000000</td>\n",
       "      <td>456548.000000</td>\n",
       "      <td>456548.000000</td>\n",
       "      <td>456548.000000</td>\n",
       "      <td>456548.000000</td>\n",
       "      <td>456548.000000</td>\n",
       "      <td>456548.000000</td>\n",
       "      <td>456548.000000</td>\n",
       "      <td>456548.000000</td>\n",
       "      <td>456548.000000</td>\n",
       "      <td>456548.000000</td>\n",
       "      <td>456548.000000</td>\n",
       "      <td>456548.000000</td>\n",
       "      <td>456548.000000</td>\n",
       "      <td>456548.000000</td>\n",
       "      <td>456548.000000</td>\n",
       "      <td>456548.000000</td>\n",
       "      <td>456548.000000</td>\n",
       "      <td>456548.000000</td>\n",
       "      <td>456548.000000</td>\n",
       "      <td>456548.000000</td>\n",
       "      <td>456548.000000</td>\n",
       "      <td>456548.000000</td>\n",
       "    </tr>\n",
       "    <tr>\n",
       "      <td>mean</td>\n",
       "      <td>1.250096e+06</td>\n",
       "      <td>74.768771</td>\n",
       "      <td>332.238933</td>\n",
       "      <td>354.156627</td>\n",
       "      <td>0.081152</td>\n",
       "      <td>0.10920</td>\n",
       "      <td>261.872760</td>\n",
       "      <td>601.553399</td>\n",
       "      <td>56.614566</td>\n",
       "      <td>4.083590</td>\n",
       "      <td>0.280124</td>\n",
       "      <td>0.045152</td>\n",
       "      <td>0.064164</td>\n",
       "      <td>0.029706</td>\n",
       "      <td>0.022313</td>\n",
       "      <td>0.064350</td>\n",
       "      <td>0.060660</td>\n",
       "      <td>0.072584</td>\n",
       "      <td>0.073175</td>\n",
       "      <td>0.062554</td>\n",
       "      <td>0.072919</td>\n",
       "      <td>0.058955</td>\n",
       "      <td>0.027763</td>\n",
       "      <td>0.065581</td>\n",
       "      <td>0.225157</td>\n",
       "      <td>0.246660</td>\n",
       "      <td>0.269249</td>\n",
       "      <td>0.258934</td>\n",
       "      <td>0.575801</td>\n",
       "      <td>0.206055</td>\n",
       "      <td>0.218144</td>\n",
       "    </tr>\n",
       "    <tr>\n",
       "      <td>std</td>\n",
       "      <td>1.443548e+05</td>\n",
       "      <td>41.524956</td>\n",
       "      <td>152.939723</td>\n",
       "      <td>160.715914</td>\n",
       "      <td>0.273069</td>\n",
       "      <td>0.31189</td>\n",
       "      <td>395.922798</td>\n",
       "      <td>66.195914</td>\n",
       "      <td>17.641306</td>\n",
       "      <td>1.091686</td>\n",
       "      <td>0.449060</td>\n",
       "      <td>0.207637</td>\n",
       "      <td>0.245045</td>\n",
       "      <td>0.169774</td>\n",
       "      <td>0.147700</td>\n",
       "      <td>0.245376</td>\n",
       "      <td>0.238705</td>\n",
       "      <td>0.259452</td>\n",
       "      <td>0.260424</td>\n",
       "      <td>0.242160</td>\n",
       "      <td>0.260004</td>\n",
       "      <td>0.235542</td>\n",
       "      <td>0.164292</td>\n",
       "      <td>0.247549</td>\n",
       "      <td>0.417686</td>\n",
       "      <td>0.431067</td>\n",
       "      <td>0.443570</td>\n",
       "      <td>0.438050</td>\n",
       "      <td>0.494221</td>\n",
       "      <td>0.404471</td>\n",
       "      <td>0.412986</td>\n",
       "    </tr>\n",
       "    <tr>\n",
       "      <td>min</td>\n",
       "      <td>1.000000e+06</td>\n",
       "      <td>1.000000</td>\n",
       "      <td>2.970000</td>\n",
       "      <td>55.350000</td>\n",
       "      <td>0.000000</td>\n",
       "      <td>0.00000</td>\n",
       "      <td>13.000000</td>\n",
       "      <td>456.000000</td>\n",
       "      <td>23.000000</td>\n",
       "      <td>0.900000</td>\n",
       "      <td>0.000000</td>\n",
       "      <td>0.000000</td>\n",
       "      <td>0.000000</td>\n",
       "      <td>0.000000</td>\n",
       "      <td>0.000000</td>\n",
       "      <td>0.000000</td>\n",
       "      <td>0.000000</td>\n",
       "      <td>0.000000</td>\n",
       "      <td>0.000000</td>\n",
       "      <td>0.000000</td>\n",
       "      <td>0.000000</td>\n",
       "      <td>0.000000</td>\n",
       "      <td>0.000000</td>\n",
       "      <td>0.000000</td>\n",
       "      <td>0.000000</td>\n",
       "      <td>0.000000</td>\n",
       "      <td>0.000000</td>\n",
       "      <td>0.000000</td>\n",
       "      <td>0.000000</td>\n",
       "      <td>0.000000</td>\n",
       "      <td>0.000000</td>\n",
       "    </tr>\n",
       "    <tr>\n",
       "      <td>25%</td>\n",
       "      <td>1.124999e+06</td>\n",
       "      <td>39.000000</td>\n",
       "      <td>228.950000</td>\n",
       "      <td>243.500000</td>\n",
       "      <td>0.000000</td>\n",
       "      <td>0.00000</td>\n",
       "      <td>54.000000</td>\n",
       "      <td>553.000000</td>\n",
       "      <td>34.000000</td>\n",
       "      <td>3.600000</td>\n",
       "      <td>0.000000</td>\n",
       "      <td>0.000000</td>\n",
       "      <td>0.000000</td>\n",
       "      <td>0.000000</td>\n",
       "      <td>0.000000</td>\n",
       "      <td>0.000000</td>\n",
       "      <td>0.000000</td>\n",
       "      <td>0.000000</td>\n",
       "      <td>0.000000</td>\n",
       "      <td>0.000000</td>\n",
       "      <td>0.000000</td>\n",
       "      <td>0.000000</td>\n",
       "      <td>0.000000</td>\n",
       "      <td>0.000000</td>\n",
       "      <td>0.000000</td>\n",
       "      <td>0.000000</td>\n",
       "      <td>0.000000</td>\n",
       "      <td>0.000000</td>\n",
       "      <td>0.000000</td>\n",
       "      <td>0.000000</td>\n",
       "      <td>0.000000</td>\n",
       "    </tr>\n",
       "    <tr>\n",
       "      <td>50%</td>\n",
       "      <td>1.250184e+06</td>\n",
       "      <td>76.000000</td>\n",
       "      <td>296.820000</td>\n",
       "      <td>310.460000</td>\n",
       "      <td>0.000000</td>\n",
       "      <td>0.00000</td>\n",
       "      <td>136.000000</td>\n",
       "      <td>596.000000</td>\n",
       "      <td>56.000000</td>\n",
       "      <td>4.000000</td>\n",
       "      <td>0.000000</td>\n",
       "      <td>0.000000</td>\n",
       "      <td>0.000000</td>\n",
       "      <td>0.000000</td>\n",
       "      <td>0.000000</td>\n",
       "      <td>0.000000</td>\n",
       "      <td>0.000000</td>\n",
       "      <td>0.000000</td>\n",
       "      <td>0.000000</td>\n",
       "      <td>0.000000</td>\n",
       "      <td>0.000000</td>\n",
       "      <td>0.000000</td>\n",
       "      <td>0.000000</td>\n",
       "      <td>0.000000</td>\n",
       "      <td>0.000000</td>\n",
       "      <td>0.000000</td>\n",
       "      <td>0.000000</td>\n",
       "      <td>0.000000</td>\n",
       "      <td>1.000000</td>\n",
       "      <td>0.000000</td>\n",
       "      <td>0.000000</td>\n",
       "    </tr>\n",
       "    <tr>\n",
       "      <td>75%</td>\n",
       "      <td>1.375140e+06</td>\n",
       "      <td>111.000000</td>\n",
       "      <td>445.230000</td>\n",
       "      <td>458.870000</td>\n",
       "      <td>0.000000</td>\n",
       "      <td>0.00000</td>\n",
       "      <td>324.000000</td>\n",
       "      <td>651.000000</td>\n",
       "      <td>77.000000</td>\n",
       "      <td>4.500000</td>\n",
       "      <td>1.000000</td>\n",
       "      <td>0.000000</td>\n",
       "      <td>0.000000</td>\n",
       "      <td>0.000000</td>\n",
       "      <td>0.000000</td>\n",
       "      <td>0.000000</td>\n",
       "      <td>0.000000</td>\n",
       "      <td>0.000000</td>\n",
       "      <td>0.000000</td>\n",
       "      <td>0.000000</td>\n",
       "      <td>0.000000</td>\n",
       "      <td>0.000000</td>\n",
       "      <td>0.000000</td>\n",
       "      <td>0.000000</td>\n",
       "      <td>0.000000</td>\n",
       "      <td>0.000000</td>\n",
       "      <td>1.000000</td>\n",
       "      <td>1.000000</td>\n",
       "      <td>1.000000</td>\n",
       "      <td>0.000000</td>\n",
       "      <td>0.000000</td>\n",
       "    </tr>\n",
       "    <tr>\n",
       "      <td>max</td>\n",
       "      <td>1.499999e+06</td>\n",
       "      <td>145.000000</td>\n",
       "      <td>866.270000</td>\n",
       "      <td>866.270000</td>\n",
       "      <td>1.000000</td>\n",
       "      <td>1.00000</td>\n",
       "      <td>24299.000000</td>\n",
       "      <td>713.000000</td>\n",
       "      <td>93.000000</td>\n",
       "      <td>7.000000</td>\n",
       "      <td>1.000000</td>\n",
       "      <td>1.000000</td>\n",
       "      <td>1.000000</td>\n",
       "      <td>1.000000</td>\n",
       "      <td>1.000000</td>\n",
       "      <td>1.000000</td>\n",
       "      <td>1.000000</td>\n",
       "      <td>1.000000</td>\n",
       "      <td>1.000000</td>\n",
       "      <td>1.000000</td>\n",
       "      <td>1.000000</td>\n",
       "      <td>1.000000</td>\n",
       "      <td>1.000000</td>\n",
       "      <td>1.000000</td>\n",
       "      <td>1.000000</td>\n",
       "      <td>1.000000</td>\n",
       "      <td>1.000000</td>\n",
       "      <td>1.000000</td>\n",
       "      <td>1.000000</td>\n",
       "      <td>1.000000</td>\n",
       "      <td>1.000000</td>\n",
       "    </tr>\n",
       "  </tbody>\n",
       "</table>\n",
       "</div>"
      ],
      "text/plain": [
       "                 id           week  checkout_price     base_price  \\\n",
       "count  4.565480e+05  456548.000000   456548.000000  456548.000000   \n",
       "mean   1.250096e+06      74.768771      332.238933     354.156627   \n",
       "std    1.443548e+05      41.524956      152.939723     160.715914   \n",
       "min    1.000000e+06       1.000000        2.970000      55.350000   \n",
       "25%    1.124999e+06      39.000000      228.950000     243.500000   \n",
       "50%    1.250184e+06      76.000000      296.820000     310.460000   \n",
       "75%    1.375140e+06     111.000000      445.230000     458.870000   \n",
       "max    1.499999e+06     145.000000      866.270000     866.270000   \n",
       "\n",
       "       emailer_for_promotion  homepage_featured     num_orders      city_code  \\\n",
       "count          456548.000000       456548.00000  456548.000000  456548.000000   \n",
       "mean                0.081152            0.10920     261.872760     601.553399   \n",
       "std                 0.273069            0.31189     395.922798      66.195914   \n",
       "min                 0.000000            0.00000      13.000000     456.000000   \n",
       "25%                 0.000000            0.00000      54.000000     553.000000   \n",
       "50%                 0.000000            0.00000     136.000000     596.000000   \n",
       "75%                 0.000000            0.00000     324.000000     651.000000   \n",
       "max                 1.000000            1.00000   24299.000000     713.000000   \n",
       "\n",
       "         region_code        op_area      Beverages        Biryani  \\\n",
       "count  456548.000000  456548.000000  456548.000000  456548.000000   \n",
       "mean       56.614566       4.083590       0.280124       0.045152   \n",
       "std        17.641306       1.091686       0.449060       0.207637   \n",
       "min        23.000000       0.900000       0.000000       0.000000   \n",
       "25%        34.000000       3.600000       0.000000       0.000000   \n",
       "50%        56.000000       4.000000       0.000000       0.000000   \n",
       "75%        77.000000       4.500000       1.000000       0.000000   \n",
       "max        93.000000       7.000000       1.000000       1.000000   \n",
       "\n",
       "              Desert         Extras           Fish   Other Snacks  \\\n",
       "count  456548.000000  456548.000000  456548.000000  456548.000000   \n",
       "mean        0.064164       0.029706       0.022313       0.064350   \n",
       "std         0.245045       0.169774       0.147700       0.245376   \n",
       "min         0.000000       0.000000       0.000000       0.000000   \n",
       "25%         0.000000       0.000000       0.000000       0.000000   \n",
       "50%         0.000000       0.000000       0.000000       0.000000   \n",
       "75%         0.000000       0.000000       0.000000       0.000000   \n",
       "max         1.000000       1.000000       1.000000       1.000000   \n",
       "\n",
       "               Pasta          Pizza      Rice Bowl          Salad  \\\n",
       "count  456548.000000  456548.000000  456548.000000  456548.000000   \n",
       "mean        0.060660       0.072584       0.073175       0.062554   \n",
       "std         0.238705       0.259452       0.260424       0.242160   \n",
       "min         0.000000       0.000000       0.000000       0.000000   \n",
       "25%         0.000000       0.000000       0.000000       0.000000   \n",
       "50%         0.000000       0.000000       0.000000       0.000000   \n",
       "75%         0.000000       0.000000       0.000000       0.000000   \n",
       "max         1.000000       1.000000       1.000000       1.000000   \n",
       "\n",
       "            Sandwich        Seafood           Soup       Starters  \\\n",
       "count  456548.000000  456548.000000  456548.000000  456548.000000   \n",
       "mean        0.072919       0.058955       0.027763       0.065581   \n",
       "std         0.260004       0.235542       0.164292       0.247549   \n",
       "min         0.000000       0.000000       0.000000       0.000000   \n",
       "25%         0.000000       0.000000       0.000000       0.000000   \n",
       "50%         0.000000       0.000000       0.000000       0.000000   \n",
       "75%         0.000000       0.000000       0.000000       0.000000   \n",
       "max         1.000000       1.000000       1.000000       1.000000   \n",
       "\n",
       "         Continental         Indian        Italian           Thai  \\\n",
       "count  456548.000000  456548.000000  456548.000000  456548.000000   \n",
       "mean        0.225157       0.246660       0.269249       0.258934   \n",
       "std         0.417686       0.431067       0.443570       0.438050   \n",
       "min         0.000000       0.000000       0.000000       0.000000   \n",
       "25%         0.000000       0.000000       0.000000       0.000000   \n",
       "50%         0.000000       0.000000       0.000000       0.000000   \n",
       "75%         0.000000       0.000000       1.000000       1.000000   \n",
       "max         1.000000       1.000000       1.000000       1.000000   \n",
       "\n",
       "              TYPE_A         TYPE_B         TYPE_C  \n",
       "count  456548.000000  456548.000000  456548.000000  \n",
       "mean        0.575801       0.206055       0.218144  \n",
       "std         0.494221       0.404471       0.412986  \n",
       "min         0.000000       0.000000       0.000000  \n",
       "25%         0.000000       0.000000       0.000000  \n",
       "50%         1.000000       0.000000       0.000000  \n",
       "75%         1.000000       0.000000       0.000000  \n",
       "max         1.000000       1.000000       1.000000  "
      ]
     },
     "execution_count": 43,
     "metadata": {},
     "output_type": "execute_result"
    }
   ],
   "source": [
    "full_train.describe()"
   ]
  },
  {
   "cell_type": "markdown",
   "metadata": {},
   "source": [
    "# 6. PREDCTlNG THE MODELS"
   ]
  },
  {
   "cell_type": "markdown",
   "metadata": {},
   "source": [
    "## 1 - LlNEAR REGRESSlON"
   ]
  },
  {
   "cell_type": "code",
   "execution_count": 44,
   "metadata": {},
   "outputs": [],
   "source": [
    "from sklearn.linear_model import LinearRegression"
   ]
  },
  {
   "cell_type": "code",
   "execution_count": 45,
   "metadata": {},
   "outputs": [],
   "source": [
    "le = LinearRegression()"
   ]
  },
  {
   "cell_type": "code",
   "execution_count": 46,
   "metadata": {},
   "outputs": [
    {
     "data": {
      "text/plain": [
       "LinearRegression(copy_X=True, fit_intercept=True, n_jobs=None, normalize=False)"
      ]
     },
     "execution_count": 46,
     "metadata": {},
     "output_type": "execute_result"
    }
   ],
   "source": [
    "le.fit(X_train,Y_train)"
   ]
  },
  {
   "cell_type": "code",
   "execution_count": 47,
   "metadata": {},
   "outputs": [
    {
     "name": "stdout",
     "output_type": "stream",
     "text": [
      "RMSE: 12.973809601845499\n"
     ]
    }
   ],
   "source": [
    "Y_pred = le.predict(X_test)\n",
    "from sklearn import metrics\n",
    "print('RMSE:',100*np.sqrt(metrics.mean_squared_log_error(Y_test, Y_pred)))"
   ]
  },
  {
   "cell_type": "markdown",
   "metadata": {},
   "source": [
    "## 2.   XGB"
   ]
  },
  {
   "cell_type": "code",
   "execution_count": 48,
   "metadata": {},
   "outputs": [],
   "source": [
    "xgb = XGBRegressor(max_depth = 9,\n",
    "    learning_rate=0.5,\n",
    "        silent= 1, \n",
    "        objective= 'reg:linear',  \n",
    "        eval_metric= 'rmse',\n",
    "        seed= 4)"
   ]
  },
  {
   "cell_type": "code",
   "execution_count": 49,
   "metadata": {},
   "outputs": [
    {
     "name": "stdout",
     "output_type": "stream",
     "text": [
      "[16:06:00] WARNING: C:/Users/Administrator/workspace/xgboost-win64_release_1.1.0/src/objective/regression_obj.cu:168: reg:linear is now deprecated in favor of reg:squarederror.\n",
      "[16:06:00] WARNING: C:\\Users\\Administrator\\workspace\\xgboost-win64_release_1.1.0\\src\\learner.cc:480: \n",
      "Parameters: { silent } might not be used.\n",
      "\n",
      "  This may not be accurate due to some parameters are only used in language bindings but\n",
      "  passed down to XGBoost core.  Or some parameters are not used but slip through this\n",
      "  verification. Please open an issue if you find above cases.\n",
      "\n",
      "\n",
      "[16:06:14] WARNING: C:/Users/Administrator/workspace/xgboost-win64_release_1.1.0/src/objective/regression_obj.cu:168: reg:linear is now deprecated in favor of reg:squarederror.\n"
     ]
    },
    {
     "data": {
      "text/plain": [
       "XGBRegressor(base_score=0.5, booster='gbtree', colsample_bylevel=1,\n",
       "             colsample_bynode=1, colsample_bytree=1, eval_metric='rmse',\n",
       "             gamma=0, gpu_id=-1, importance_type='gain',\n",
       "             interaction_constraints='', learning_rate=0.5, max_delta_step=0,\n",
       "             max_depth=9, min_child_weight=1, missing=nan,\n",
       "             monotone_constraints='()', n_estimators=100, n_jobs=0,\n",
       "             num_parallel_tree=1, objective='reg:linear', random_state=4,\n",
       "             reg_alpha=0, reg_lambda=1, scale_pos_weight=1, seed=4, silent=1,\n",
       "             subsample=1, tree_method='exact', validate_parameters=1,\n",
       "             verbosity=None)"
      ]
     },
     "execution_count": 49,
     "metadata": {},
     "output_type": "execute_result"
    }
   ],
   "source": [
    "xgb.fit(X_train,Y_train)"
   ]
  },
  {
   "cell_type": "code",
   "execution_count": 50,
   "metadata": {},
   "outputs": [
    {
     "name": "stdout",
     "output_type": "stream",
     "text": [
      "RMSE: 6.748892273383227\n"
     ]
    }
   ],
   "source": [
    "Y_pred = xgb.predict(X_test)\n",
    "from sklearn import metrics\n",
    "print('RMSE:',100*np.sqrt(metrics.mean_squared_log_error(Y_test, Y_pred)))"
   ]
  },
  {
   "cell_type": "markdown",
   "metadata": {},
   "source": [
    "## CatBoostRegressor"
   ]
  },
  {
   "cell_type": "code",
   "execution_count": 51,
   "metadata": {},
   "outputs": [
    {
     "name": "stdout",
     "output_type": "stream",
     "text": [
      "RMSE: 6.748892273383227\n"
     ]
    }
   ],
   "source": [
    "from catboost import CatBoostRegressor\n",
    "CGB=CatBoostRegressor(learning_rate=0.3,loss_function='RMSE',max_depth=9,verbose=False)\n",
    "\n",
    "CGB.fit(X_train, Y_train)\n",
    "CGBpred=CGB.predict(X_test)\n",
    "print('RMSE:',100*np.sqrt(metrics.mean_squared_log_error(Y_test, Y_pred)))"
   ]
  },
  {
   "cell_type": "markdown",
   "metadata": {},
   "source": [
    "# 7.Feature Engineering"
   ]
  },
  {
   "cell_type": "markdown",
   "metadata": {},
   "source": [
    "### PLOTS/GRAPHS"
   ]
  },
  {
   "cell_type": "code",
   "execution_count": 52,
   "metadata": {},
   "outputs": [
    {
     "data": {
      "text/plain": [
       "Index(['id', 'week', 'checkout_price', 'base_price', 'emailer_for_promotion',\n",
       "       'homepage_featured', 'num_orders', 'city_code', 'region_code',\n",
       "       'op_area', 'Beverages', 'Biryani', 'Desert', 'Extras', 'Fish',\n",
       "       'Other Snacks', 'Pasta', 'Pizza', 'Rice Bowl', 'Salad', 'Sandwich',\n",
       "       'Seafood', 'Soup', 'Starters', 'Continental', 'Indian', 'Italian',\n",
       "       'Thai', 'TYPE_A', 'TYPE_B', 'TYPE_C'],\n",
       "      dtype='object')"
      ]
     },
     "execution_count": 52,
     "metadata": {},
     "output_type": "execute_result"
    }
   ],
   "source": [
    "full_train.columns"
   ]
  },
  {
   "cell_type": "code",
   "execution_count": 53,
   "metadata": {},
   "outputs": [
    {
     "data": {
      "text/plain": [
       "<matplotlib.axes._subplots.AxesSubplot at 0x1e3e0a73f08>"
      ]
     },
     "execution_count": 53,
     "metadata": {},
     "output_type": "execute_result"
    },
    {
     "data": {
      "image/png": "[encoded data removed]",
      "text/plain": [
       "<Figure size 1152x1008 with 2 Axes>"
      ]
     },
     "metadata": {
      "needs_background": "light"
     },
     "output_type": "display_data"
    }
   ],
   "source": [
    "plt.figure(figsize=(16,14))\n",
    "plot_data1=full_train\n",
    "sns.heatmap(plot_data1.drop(['id', 'week','Beverages', 'Biryani', 'Desert', 'Extras', 'Fish',\n",
    "       'Other Snacks', 'Pasta', 'Pizza', 'Rice Bowl', 'Salad', 'Sandwich',\n",
    "       'Seafood', 'Soup', 'Starters'],axis=1).corr(),annot=True, square=True, cmap='Reds')"
   ]
  },
  {
   "cell_type": "code",
   "execution_count": 54,
   "metadata": {},
   "outputs": [
    {
     "data": {
      "text/plain": [
       "0         177\n",
       "1         270\n",
       "2         189\n",
       "3          54\n",
       "4          40\n",
       "         ... \n",
       "456543     68\n",
       "456544     42\n",
       "456545    501\n",
       "456546    729\n",
       "456547    162\n",
       "Name: num_orders, Length: 456548, dtype: int64"
      ]
     },
     "execution_count": 54,
     "metadata": {},
     "output_type": "execute_result"
    }
   ],
   "source": [
    "#Correlation with output variable\n",
    "plot_data1_target = abs(plot_data1['num_orders'])\n",
    "#Selecting highly correlated features\n",
    "relevant_features = plot_data1_target[plot_data1_target>0.5]\n",
    "relevant_features"
   ]
  },
  {
   "cell_type": "code",
   "execution_count": 55,
   "metadata": {},
   "outputs": [
    {
     "data": {
      "text/plain": [
       "<matplotlib.axes._subplots.AxesSubplot at 0x1e3e2148708>"
      ]
     },
     "execution_count": 55,
     "metadata": {},
     "output_type": "execute_result"
    },
    {
     "data": {
      "image/png": "[encoded data removed]",
      "text/plain": [
       "<Figure size 1152x1008 with 2 Axes>"
      ]
     },
     "metadata": {
      "needs_background": "light"
     },
     "output_type": "display_data"
    }
   ],
   "source": [
    "plt.figure(figsize=(16,14))\n",
    "plot_data1=full_train\n",
    "sns.heatmap(plot_data1.drop(['id', 'week','Continental', 'Indian', 'Italian',\n",
    "       'Thai', 'TYPE_A', 'TYPE_B', 'TYPE_C'],axis=1).corr(),annot=True, square=True, cmap='Reds')"
   ]
  },
  {
   "cell_type": "code",
   "execution_count": 56,
   "metadata": {},
   "outputs": [
    {
     "data": {
      "text/plain": [
       "<matplotlib.axes._subplots.AxesSubplot at 0x1e3e28d4488>"
      ]
     },
     "execution_count": 56,
     "metadata": {},
     "output_type": "execute_result"
    },
    {
     "data": {
      "image/png": "[encoded data removed]",
      "text/plain": [
       "<Figure size 1152x1008 with 2 Axes>"
      ]
     },
     "metadata": {
      "needs_background": "light"
     },
     "output_type": "display_data"
    }
   ],
   "source": [
    "plt.figure(figsize=(16,14))\n",
    "plot_data1=full_train\n",
    "sns.heatmap(plot_data1.drop(['Beverages', 'Biryani', 'Desert', 'Extras', 'Fish',\n",
    "       'Other Snacks', 'Pasta', 'Pizza', 'Rice Bowl', 'Salad', 'Sandwich',\n",
    "       'Seafood', 'Soup', 'Starters', 'Continental', 'Indian', 'Italian',\n",
    "       'Thai', 'TYPE_A', 'TYPE_B', 'TYPE_C'],axis=1).corr(),annot=True, square=True, cmap='Reds')"
   ]
  },
  {
   "cell_type": "code",
   "execution_count": 57,
   "metadata": {},
   "outputs": [],
   "source": [
    "data_tr=full_train\n",
    "data_te=full_test"
   ]
  },
  {
   "cell_type": "markdown",
   "metadata": {},
   "source": [
    "### FEATURE Scaling"
   ]
  },
  {
   "cell_type": "code",
   "execution_count": 58,
   "metadata": {},
   "outputs": [],
   "source": [
    "full_train=data_tr\n",
    "full_test=data_te"
   ]
  },
  {
   "cell_type": "markdown",
   "metadata": {},
   "source": [
    "full_train['dff_cost']=full_train['base_price']-full_train['checkout_price']\n",
    "full_test['dff_cost']=full_test['base_price']-full_test['checkout_price']"
   ]
  },
  {
   "cell_type": "code",
   "execution_count": 59,
   "metadata": {},
   "outputs": [],
   "source": [
    "full_train['marketing']=full_train['emailer_for_promotion']+full_train['homepage_featured']\n",
    "full_test['marketing']=full_test['emailer_for_promotion']+full_test['homepage_featured']"
   ]
  },
  {
   "cell_type": "code",
   "execution_count": 60,
   "metadata": {},
   "outputs": [],
   "source": [
    "full_train['total_cost']=full_train['base_price']+full_train['checkout_price']\n",
    "full_test['total_cost']=full_test['base_price']+full_test['checkout_price']"
   ]
  },
  {
   "cell_type": "code",
   "execution_count": 61,
   "metadata": {},
   "outputs": [],
   "source": [
    "full_train=full_train.drop(['emailer_for_promotion','homepage_featured'],axis=1)\n",
    "full_test=full_test.drop(['emailer_for_promotion','homepage_featured'],axis=1)"
   ]
  },
  {
   "cell_type": "markdown",
   "metadata": {},
   "source": [
    "full_train=full_train.drop(['base_price','checkout_price'],axis=1)\n",
    "full_test=full_test.drop(['base_price','checkout_price'],axis=1)"
   ]
  },
  {
   "cell_type": "code",
   "execution_count": 62,
   "metadata": {},
   "outputs": [],
   "source": [
    "full_train['dish_sum']=full_train[['Beverages', 'Biryani', 'Desert', 'Extras', 'Fish',\n",
    "       'Other Snacks', 'Pasta', 'Pizza', 'Rice Bowl', 'Salad', 'Sandwich',\n",
    "       'Seafood', 'Soup', 'Starters']].sum(axis=1)\n",
    "\n",
    "full_test['dish_sum']=full_test[['Beverages', 'Biryani', 'Desert', 'Extras', 'Fish',\n",
    "       'Other Snacks', 'Pasta', 'Pizza', 'Rice Bowl', 'Salad', 'Sandwich',\n",
    "       'Seafood', 'Soup', 'Starters']].sum(axis=1)"
   ]
  },
  {
   "cell_type": "code",
   "execution_count": 63,
   "metadata": {},
   "outputs": [],
   "source": [
    "full_train['dish_mean']=full_train[['Beverages', 'Biryani', 'Desert', 'Extras', 'Fish',\n",
    "       'Other Snacks', 'Pasta', 'Pizza', 'Rice Bowl', 'Salad', 'Sandwich',\n",
    "       'Seafood', 'Soup', 'Starters']].mean(axis=1)\n",
    "\n",
    "full_test['dish_mean']=full_test[['Beverages', 'Biryani', 'Desert', 'Extras', 'Fish',\n",
    "       'Other Snacks', 'Pasta', 'Pizza', 'Rice Bowl', 'Salad', 'Sandwich',\n",
    "       'Seafood', 'Soup', 'Starters']].mean(axis=1)"
   ]
  },
  {
   "cell_type": "code",
   "execution_count": 64,
   "metadata": {},
   "outputs": [],
   "source": [
    "full_train['dish_skew']=full_train[['Beverages', 'Biryani', 'Desert', 'Extras', 'Fish',\n",
    "       'Other Snacks', 'Pasta', 'Pizza', 'Rice Bowl', 'Salad', 'Sandwich',\n",
    "       'Seafood', 'Soup', 'Starters']].skew(axis=1)\n",
    "\n",
    "full_test['dish_skew']=full_test[['Beverages', 'Biryani', 'Desert', 'Extras', 'Fish',\n",
    "       'Other Snacks', 'Pasta', 'Pizza', 'Rice Bowl', 'Salad', 'Sandwich',\n",
    "       'Seafood', 'Soup', 'Starters']].skew(axis=1)"
   ]
  },
  {
   "cell_type": "code",
   "execution_count": 65,
   "metadata": {},
   "outputs": [],
   "source": [
    "full_train['dish_kurt']=full_train[['Beverages', 'Biryani', 'Desert', 'Extras', 'Fish',\n",
    "       'Other Snacks', 'Pasta', 'Pizza', 'Rice Bowl', 'Salad', 'Sandwich',\n",
    "       'Seafood', 'Soup', 'Starters']].kurt(axis=1)\n",
    "\n",
    "full_test['dish_kurt']=full_test[['Beverages', 'Biryani', 'Desert', 'Extras', 'Fish',\n",
    "       'Other Snacks', 'Pasta', 'Pizza', 'Rice Bowl', 'Salad', 'Sandwich',\n",
    "       'Seafood', 'Soup', 'Starters']].kurt(axis=1)"
   ]
  },
  {
   "cell_type": "code",
   "execution_count": 66,
   "metadata": {},
   "outputs": [],
   "source": [
    "full_train['cusine']=full_train[['Continental', 'Indian', 'Italian','Thai']].sum(axis=1)\n",
    "full_test['cusine']=full_test[['Continental', 'Indian', 'Italian','Thai']].sum(axis=1)\n"
   ]
  },
  {
   "cell_type": "code",
   "execution_count": 67,
   "metadata": {},
   "outputs": [],
   "source": [
    "full_train['type']=full_train[['TYPE_A', 'TYPE_B', 'TYPE_C']].sum(axis=1)\n",
    "full_test['type']=full_test[['TYPE_A', 'TYPE_B', 'TYPE_C']].sum(axis=1)"
   ]
  },
  {
   "cell_type": "markdown",
   "metadata": {},
   "source": [
    "full_train=full_train.drop(['Beverages', 'Biryani', 'Desert', 'Extras', 'Fish',\n",
    "       'Other Snacks', 'Pasta', 'Pizza', 'Rice Bowl', 'Salad', 'Sandwich',\n",
    "       'Seafood', 'Soup', 'Starters'],axis=1)\n",
    "full_test=full_test.drop(['Beverages', 'Biryani', 'Desert', 'Extras', 'Fish',\n",
    "       'Other Snacks', 'Pasta', 'Pizza', 'Rice Bowl', 'Salad', 'Sandwich',\n",
    "       'Seafood', 'Soup', 'Starters'],axis=1)"
   ]
  },
  {
   "cell_type": "markdown",
   "metadata": {},
   "source": [
    "full_train=full_train.drop(['Continental', 'Indian', 'Italian','Thai'],axis=1)\n",
    "full_test=full_test.drop(['Continental', 'Indian', 'Italian','Thai'],axis=1)"
   ]
  },
  {
   "cell_type": "markdown",
   "metadata": {},
   "source": [
    "full_train=full_train.drop(['TYPE_A', 'TYPE_B', 'TYPE_C'],axis=1)\n",
    "full_test=full_test.drop(['TYPE_A', 'TYPE_B', 'TYPE_C'],axis=1)"
   ]
  },
  {
   "cell_type": "code",
   "execution_count": 68,
   "metadata": {},
   "outputs": [],
   "source": [
    "full_train['code']=full_train[['city_code', 'region_code', 'op_area']].sum(axis=1)\n",
    "full_test['code']=full_test[['city_code', 'region_code', 'op_area']].sum(axis=1)"
   ]
  },
  {
   "cell_type": "code",
   "execution_count": 69,
   "metadata": {},
   "outputs": [],
   "source": [
    "full_train['code_skew']=full_train[['city_code', 'region_code', 'op_area']].skew(axis=1)\n",
    "full_test['code_skew']=full_test[['city_code', 'region_code', 'op_area']].skew(axis=1)"
   ]
  },
  {
   "cell_type": "code",
   "execution_count": 70,
   "metadata": {},
   "outputs": [],
   "source": [
    "full_train['code_mean']=full_train[['city_code', 'region_code', 'op_area']].mean(axis=1)\n",
    "full_test['code_mean']=full_test[['city_code', 'region_code', 'op_area']].mean(axis=1)"
   ]
  },
  {
   "cell_type": "code",
   "execution_count": 71,
   "metadata": {},
   "outputs": [],
   "source": [
    "full_train['code_kurt']=full_train[['city_code', 'region_code', 'op_area']].kurt(axis=1)\n",
    "full_test['code_kurt']=full_test[['city_code', 'region_code', 'op_area']].kurt(axis=1)"
   ]
  },
  {
   "cell_type": "markdown",
   "metadata": {},
   "source": [
    "full_train=full_train.drop(['city_code', 'region_code',\n",
    "       'op_area'],axis=1)\n",
    "full_test=full_test.drop(['city_code', 'region_code',\n",
    "       'op_area'],axis=1)"
   ]
  },
  {
   "cell_type": "code",
   "execution_count": 72,
   "metadata": {},
   "outputs": [
    {
     "name": "stdout",
     "output_type": "stream",
     "text": [
      "<class 'pandas.core.frame.DataFrame'>\n",
      "Int64Index: 456548 entries, 0 to 456547\n",
      "Data columns (total 41 columns):\n",
      "id                456548 non-null int64\n",
      "week              456548 non-null int64\n",
      "checkout_price    456548 non-null float64\n",
      "base_price        456548 non-null float64\n",
      "num_orders        456548 non-null int64\n",
      "city_code         456548 non-null int64\n",
      "region_code       456548 non-null int64\n",
      "op_area           456548 non-null float64\n",
      "Beverages         456548 non-null uint8\n",
      "Biryani           456548 non-null uint8\n",
      "Desert            456548 non-null uint8\n",
      "Extras            456548 non-null uint8\n",
      "Fish              456548 non-null uint8\n",
      "Other Snacks      456548 non-null uint8\n",
      "Pasta             456548 non-null uint8\n",
      "Pizza             456548 non-null uint8\n",
      "Rice Bowl         456548 non-null uint8\n",
      "Salad             456548 non-null uint8\n",
      "Sandwich          456548 non-null uint8\n",
      "Seafood           456548 non-null uint8\n",
      "Soup              456548 non-null uint8\n",
      "Starters          456548 non-null uint8\n",
      "Continental       456548 non-null uint8\n",
      "Indian            456548 non-null uint8\n",
      "Italian           456548 non-null uint8\n",
      "Thai              456548 non-null uint8\n",
      "TYPE_A            456548 non-null uint8\n",
      "TYPE_B            456548 non-null uint8\n",
      "TYPE_C            456548 non-null uint8\n",
      "marketing         456548 non-null int64\n",
      "total_cost        456548 non-null float64\n",
      "dish_sum          456548 non-null int64\n",
      "dish_mean         456548 non-null float64\n",
      "dish_skew         456548 non-null float64\n",
      "dish_kurt         456548 non-null float64\n",
      "cusine            456548 non-null int64\n",
      "type              456548 non-null int64\n",
      "code              456548 non-null float64\n",
      "code_skew         456548 non-null float64\n",
      "code_mean         456548 non-null float64\n",
      "code_kurt         0 non-null float64\n",
      "dtypes: float64(11), int64(9), uint8(21)\n",
      "memory usage: 82.3 MB\n"
     ]
    }
   ],
   "source": [
    "full_train.info()"
   ]
  },
  {
   "cell_type": "code",
   "execution_count": 73,
   "metadata": {},
   "outputs": [],
   "source": [
    "train = full_train[full_train['week'] <= 130].copy()\n",
    "val   = full_train[(full_train['week'] >= 131) & (full_train['week'] <= 140)].copy()\n",
    "test  = full_train[(full_train['week'] >= 141) & (full_train\n",
    "                                                  ['week'] <= 145)].copy()"
   ]
  },
  {
   "cell_type": "code",
   "execution_count": 74,
   "metadata": {},
   "outputs": [],
   "source": [
    "X_train=val.drop(['id','num_orders','week'],axis=1)\n",
    "Y_train=np.log(val['num_orders']) #Applying Log Transformation on the Target Feature\n",
    "\n",
    "X_test=val.drop(['id','num_orders','week'],axis=1)\n",
    "Y_test=np.log(val['num_orders']) #Applying Log Transformation on the Target Feature\n"
   ]
  },
  {
   "cell_type": "code",
   "execution_count": 75,
   "metadata": {},
   "outputs": [
    {
     "data": {
      "text/plain": [
       "(32929, 38)"
      ]
     },
     "execution_count": 75,
     "metadata": {},
     "output_type": "execute_result"
    }
   ],
   "source": [
    "X_train.shape"
   ]
  },
  {
   "cell_type": "code",
   "execution_count": 76,
   "metadata": {},
   "outputs": [
    {
     "data": {
      "text/plain": [
       "(32929,)"
      ]
     },
     "execution_count": 76,
     "metadata": {},
     "output_type": "execute_result"
    }
   ],
   "source": [
    "Y_train.shape"
   ]
  },
  {
   "cell_type": "code",
   "execution_count": 77,
   "metadata": {},
   "outputs": [
    {
     "name": "stdout",
     "output_type": "stream",
     "text": [
      "[16:07:13] WARNING: C:/Users/Administrator/workspace/xgboost-win64_release_1.1.0/src/objective/regression_obj.cu:168: reg:linear is now deprecated in favor of reg:squarederror.\n",
      "[16:07:13] WARNING: C:\\Users\\Administrator\\workspace\\xgboost-win64_release_1.1.0\\src\\learner.cc:480: \n",
      "Parameters: { silent } might not be used.\n",
      "\n",
      "  This may not be accurate due to some parameters are only used in language bindings but\n",
      "  passed down to XGBoost core.  Or some parameters are not used but slip through this\n",
      "  verification. Please open an issue if you find above cases.\n",
      "\n",
      "\n",
      "[16:07:28] WARNING: C:/Users/Administrator/workspace/xgboost-win64_release_1.1.0/src/objective/regression_obj.cu:168: reg:linear is now deprecated in favor of reg:squarederror.\n"
     ]
    },
    {
     "data": {
      "text/plain": [
       "XGBRegressor(base_score=0.5, booster='gbtree', colsample_bylevel=1,\n",
       "             colsample_bynode=1, colsample_bytree=1, eval_metric='rmse',\n",
       "             gamma=0, gpu_id=-1, importance_type='gain',\n",
       "             interaction_constraints='', learning_rate=0.5, max_delta_step=0,\n",
       "             max_depth=9, min_child_weight=1, missing=nan,\n",
       "             monotone_constraints='()', n_estimators=100, n_jobs=0,\n",
       "             num_parallel_tree=1, objective='reg:linear', random_state=4,\n",
       "             reg_alpha=0, reg_lambda=1, scale_pos_weight=1, seed=4, silent=1,\n",
       "             subsample=1, tree_method='exact', validate_parameters=1,\n",
       "             verbosity=None)"
      ]
     },
     "execution_count": 77,
     "metadata": {},
     "output_type": "execute_result"
    }
   ],
   "source": [
    "xgb.fit(X_train,Y_train)"
   ]
  },
  {
   "cell_type": "code",
   "execution_count": 78,
   "metadata": {},
   "outputs": [
    {
     "name": "stdout",
     "output_type": "stream",
     "text": [
      "RMSE: 6.582784836802354\n"
     ]
    }
   ],
   "source": [
    "Y_pred = xgb.predict(X_test)\n",
    "from sklearn import metrics\n",
    "print('RMSE:',100*np.sqrt(metrics.mean_squared_log_error(Y_test, Y_pred)))"
   ]
  },
  {
   "cell_type": "markdown",
   "metadata": {},
   "source": [
    "# FOR PREDICTING THE OUTPUT FOR  TEST VALUES"
   ]
  },
  {
   "cell_type": "code",
   "execution_count": 79,
   "metadata": {},
   "outputs": [
    {
     "data": {
      "text/plain": [
       "(32929, 38)"
      ]
     },
     "execution_count": 79,
     "metadata": {},
     "output_type": "execute_result"
    }
   ],
   "source": [
    "X_test.shape"
   ]
  },
  {
   "cell_type": "code",
   "execution_count": 80,
   "metadata": {},
   "outputs": [],
   "source": [
    "test=full_test.drop(['id','week'],axis=1)"
   ]
  },
  {
   "cell_type": "code",
   "execution_count": 81,
   "metadata": {},
   "outputs": [
    {
     "name": "stdout",
     "output_type": "stream",
     "text": [
      "<class 'pandas.core.frame.DataFrame'>\n",
      "Int64Index: 32573 entries, 0 to 32572\n",
      "Data columns (total 38 columns):\n",
      "checkout_price    32573 non-null float64\n",
      "base_price        32573 non-null float64\n",
      "city_code         32573 non-null int64\n",
      "region_code       32573 non-null int64\n",
      "op_area           32573 non-null float64\n",
      "Beverages         32573 non-null uint8\n",
      "Biryani           32573 non-null uint8\n",
      "Desert            32573 non-null uint8\n",
      "Extras            32573 non-null uint8\n",
      "Fish              32573 non-null uint8\n",
      "Other Snacks      32573 non-null uint8\n",
      "Pasta             32573 non-null uint8\n",
      "Pizza             32573 non-null uint8\n",
      "Rice Bowl         32573 non-null uint8\n",
      "Salad             32573 non-null uint8\n",
      "Sandwich          32573 non-null uint8\n",
      "Seafood           32573 non-null uint8\n",
      "Soup              32573 non-null uint8\n",
      "Starters          32573 non-null uint8\n",
      "Continental       32573 non-null uint8\n",
      "Indian            32573 non-null uint8\n",
      "Italian           32573 non-null uint8\n",
      "Thai              32573 non-null uint8\n",
      "TYPE_A            32573 non-null uint8\n",
      "TYPE_B            32573 non-null uint8\n",
      "TYPE_C            32573 non-null uint8\n",
      "marketing         32573 non-null int64\n",
      "total_cost        32573 non-null float64\n",
      "dish_sum          32573 non-null int64\n",
      "dish_mean         32573 non-null float64\n",
      "dish_skew         32573 non-null float64\n",
      "dish_kurt         32573 non-null float64\n",
      "cusine            32573 non-null int64\n",
      "type              32573 non-null int64\n",
      "code              32573 non-null float64\n",
      "code_skew         32573 non-null float64\n",
      "code_mean         32573 non-null float64\n",
      "code_kurt         0 non-null float64\n",
      "dtypes: float64(11), int64(6), uint8(21)\n",
      "memory usage: 5.1 MB\n"
     ]
    }
   ],
   "source": [
    "test.info()"
   ]
  },
  {
   "cell_type": "code",
   "execution_count": 82,
   "metadata": {},
   "outputs": [
    {
     "data": {
      "text/plain": [
       "(32573, 38)"
      ]
     },
     "execution_count": 82,
     "metadata": {},
     "output_type": "execute_result"
    }
   ],
   "source": [
    "test.shape"
   ]
  },
  {
   "cell_type": "code",
   "execution_count": 83,
   "metadata": {},
   "outputs": [
    {
     "data": {
      "text/plain": [
       "(32929, 38)"
      ]
     },
     "execution_count": 83,
     "metadata": {},
     "output_type": "execute_result"
    }
   ],
   "source": [
    "X_test.shape"
   ]
  },
  {
   "cell_type": "code",
   "execution_count": 84,
   "metadata": {},
   "outputs": [
    {
     "name": "stdout",
     "output_type": "stream",
     "text": [
      "<class 'pandas.core.frame.DataFrame'>\n",
      "Int64Index: 32929 entries, 407243 to 440171\n",
      "Data columns (total 38 columns):\n",
      "checkout_price    32929 non-null float64\n",
      "base_price        32929 non-null float64\n",
      "city_code         32929 non-null int64\n",
      "region_code       32929 non-null int64\n",
      "op_area           32929 non-null float64\n",
      "Beverages         32929 non-null uint8\n",
      "Biryani           32929 non-null uint8\n",
      "Desert            32929 non-null uint8\n",
      "Extras            32929 non-null uint8\n",
      "Fish              32929 non-null uint8\n",
      "Other Snacks      32929 non-null uint8\n",
      "Pasta             32929 non-null uint8\n",
      "Pizza             32929 non-null uint8\n",
      "Rice Bowl         32929 non-null uint8\n",
      "Salad             32929 non-null uint8\n",
      "Sandwich          32929 non-null uint8\n",
      "Seafood           32929 non-null uint8\n",
      "Soup              32929 non-null uint8\n",
      "Starters          32929 non-null uint8\n",
      "Continental       32929 non-null uint8\n",
      "Indian            32929 non-null uint8\n",
      "Italian           32929 non-null uint8\n",
      "Thai              32929 non-null uint8\n",
      "TYPE_A            32929 non-null uint8\n",
      "TYPE_B            32929 non-null uint8\n",
      "TYPE_C            32929 non-null uint8\n",
      "marketing         32929 non-null int64\n",
      "total_cost        32929 non-null float64\n",
      "dish_sum          32929 non-null int64\n",
      "dish_mean         32929 non-null float64\n",
      "dish_skew         32929 non-null float64\n",
      "dish_kurt         32929 non-null float64\n",
      "cusine            32929 non-null int64\n",
      "type              32929 non-null int64\n",
      "code              32929 non-null float64\n",
      "code_skew         32929 non-null float64\n",
      "code_mean         32929 non-null float64\n",
      "code_kurt         0 non-null float64\n",
      "dtypes: float64(11), int64(6), uint8(21)\n",
      "memory usage: 5.2 MB\n"
     ]
    }
   ],
   "source": [
    "X_test.info()"
   ]
  },
  {
   "cell_type": "code",
   "execution_count": 85,
   "metadata": {},
   "outputs": [
    {
     "data": {
      "text/html": [
       "<div>\n",
       "<style scoped>\n",
       "    .dataframe tbody tr th:only-of-type {\n",
       "        vertical-align: middle;\n",
       "    }\n",
       "\n",
       "    .dataframe tbody tr th {\n",
       "        vertical-align: top;\n",
       "    }\n",
       "\n",
       "    .dataframe thead th {\n",
       "        text-align: right;\n",
       "    }\n",
       "</style>\n",
       "<table border=\"1\" class=\"dataframe\">\n",
       "  <thead>\n",
       "    <tr style=\"text-align: right;\">\n",
       "      <th></th>\n",
       "      <th>checkout_price</th>\n",
       "      <th>base_price</th>\n",
       "      <th>city_code</th>\n",
       "      <th>region_code</th>\n",
       "      <th>op_area</th>\n",
       "      <th>Beverages</th>\n",
       "      <th>Biryani</th>\n",
       "      <th>Desert</th>\n",
       "      <th>Extras</th>\n",
       "      <th>Fish</th>\n",
       "      <th>Other Snacks</th>\n",
       "      <th>Pasta</th>\n",
       "      <th>Pizza</th>\n",
       "      <th>Rice Bowl</th>\n",
       "      <th>Salad</th>\n",
       "      <th>Sandwich</th>\n",
       "      <th>Seafood</th>\n",
       "      <th>Soup</th>\n",
       "      <th>Starters</th>\n",
       "      <th>Continental</th>\n",
       "      <th>Indian</th>\n",
       "      <th>Italian</th>\n",
       "      <th>Thai</th>\n",
       "      <th>TYPE_A</th>\n",
       "      <th>TYPE_B</th>\n",
       "      <th>TYPE_C</th>\n",
       "      <th>marketing</th>\n",
       "      <th>total_cost</th>\n",
       "      <th>dish_sum</th>\n",
       "      <th>dish_mean</th>\n",
       "      <th>dish_skew</th>\n",
       "      <th>dish_kurt</th>\n",
       "      <th>cusine</th>\n",
       "      <th>type</th>\n",
       "      <th>code</th>\n",
       "      <th>code_skew</th>\n",
       "      <th>code_mean</th>\n",
       "      <th>code_kurt</th>\n",
       "    </tr>\n",
       "  </thead>\n",
       "  <tbody>\n",
       "    <tr>\n",
       "      <td>407243</td>\n",
       "      <td>149.44</td>\n",
       "      <td>149.44</td>\n",
       "      <td>647</td>\n",
       "      <td>56</td>\n",
       "      <td>2.0</td>\n",
       "      <td>1</td>\n",
       "      <td>0</td>\n",
       "      <td>0</td>\n",
       "      <td>0</td>\n",
       "      <td>0</td>\n",
       "      <td>0</td>\n",
       "      <td>0</td>\n",
       "      <td>0</td>\n",
       "      <td>0</td>\n",
       "      <td>0</td>\n",
       "      <td>0</td>\n",
       "      <td>0</td>\n",
       "      <td>0</td>\n",
       "      <td>0</td>\n",
       "      <td>0</td>\n",
       "      <td>0</td>\n",
       "      <td>0</td>\n",
       "      <td>1</td>\n",
       "      <td>0</td>\n",
       "      <td>0</td>\n",
       "      <td>1</td>\n",
       "      <td>0</td>\n",
       "      <td>298.88</td>\n",
       "      <td>1</td>\n",
       "      <td>0.071429</td>\n",
       "      <td>3.741657</td>\n",
       "      <td>14.0</td>\n",
       "      <td>1</td>\n",
       "      <td>1</td>\n",
       "      <td>705.0</td>\n",
       "      <td>1.687778</td>\n",
       "      <td>235.0</td>\n",
       "      <td>NaN</td>\n",
       "    </tr>\n",
       "    <tr>\n",
       "      <td>407244</td>\n",
       "      <td>150.41</td>\n",
       "      <td>148.41</td>\n",
       "      <td>647</td>\n",
       "      <td>56</td>\n",
       "      <td>2.0</td>\n",
       "      <td>1</td>\n",
       "      <td>0</td>\n",
       "      <td>0</td>\n",
       "      <td>0</td>\n",
       "      <td>0</td>\n",
       "      <td>0</td>\n",
       "      <td>0</td>\n",
       "      <td>0</td>\n",
       "      <td>0</td>\n",
       "      <td>0</td>\n",
       "      <td>0</td>\n",
       "      <td>0</td>\n",
       "      <td>0</td>\n",
       "      <td>0</td>\n",
       "      <td>0</td>\n",
       "      <td>0</td>\n",
       "      <td>0</td>\n",
       "      <td>1</td>\n",
       "      <td>0</td>\n",
       "      <td>0</td>\n",
       "      <td>1</td>\n",
       "      <td>0</td>\n",
       "      <td>298.82</td>\n",
       "      <td>1</td>\n",
       "      <td>0.071429</td>\n",
       "      <td>3.741657</td>\n",
       "      <td>14.0</td>\n",
       "      <td>1</td>\n",
       "      <td>1</td>\n",
       "      <td>705.0</td>\n",
       "      <td>1.687778</td>\n",
       "      <td>235.0</td>\n",
       "      <td>NaN</td>\n",
       "    </tr>\n",
       "    <tr>\n",
       "      <td>407245</td>\n",
       "      <td>150.38</td>\n",
       "      <td>151.38</td>\n",
       "      <td>647</td>\n",
       "      <td>56</td>\n",
       "      <td>2.0</td>\n",
       "      <td>1</td>\n",
       "      <td>0</td>\n",
       "      <td>0</td>\n",
       "      <td>0</td>\n",
       "      <td>0</td>\n",
       "      <td>0</td>\n",
       "      <td>0</td>\n",
       "      <td>0</td>\n",
       "      <td>0</td>\n",
       "      <td>0</td>\n",
       "      <td>0</td>\n",
       "      <td>0</td>\n",
       "      <td>0</td>\n",
       "      <td>0</td>\n",
       "      <td>0</td>\n",
       "      <td>0</td>\n",
       "      <td>0</td>\n",
       "      <td>1</td>\n",
       "      <td>0</td>\n",
       "      <td>0</td>\n",
       "      <td>1</td>\n",
       "      <td>0</td>\n",
       "      <td>301.76</td>\n",
       "      <td>1</td>\n",
       "      <td>0.071429</td>\n",
       "      <td>3.741657</td>\n",
       "      <td>14.0</td>\n",
       "      <td>1</td>\n",
       "      <td>1</td>\n",
       "      <td>705.0</td>\n",
       "      <td>1.687778</td>\n",
       "      <td>235.0</td>\n",
       "      <td>NaN</td>\n",
       "    </tr>\n",
       "    <tr>\n",
       "      <td>407246</td>\n",
       "      <td>321.13</td>\n",
       "      <td>319.13</td>\n",
       "      <td>647</td>\n",
       "      <td>56</td>\n",
       "      <td>2.0</td>\n",
       "      <td>1</td>\n",
       "      <td>0</td>\n",
       "      <td>0</td>\n",
       "      <td>0</td>\n",
       "      <td>0</td>\n",
       "      <td>0</td>\n",
       "      <td>0</td>\n",
       "      <td>0</td>\n",
       "      <td>0</td>\n",
       "      <td>0</td>\n",
       "      <td>0</td>\n",
       "      <td>0</td>\n",
       "      <td>0</td>\n",
       "      <td>0</td>\n",
       "      <td>0</td>\n",
       "      <td>1</td>\n",
       "      <td>0</td>\n",
       "      <td>0</td>\n",
       "      <td>0</td>\n",
       "      <td>0</td>\n",
       "      <td>1</td>\n",
       "      <td>0</td>\n",
       "      <td>640.26</td>\n",
       "      <td>1</td>\n",
       "      <td>0.071429</td>\n",
       "      <td>3.741657</td>\n",
       "      <td>14.0</td>\n",
       "      <td>1</td>\n",
       "      <td>1</td>\n",
       "      <td>705.0</td>\n",
       "      <td>1.687778</td>\n",
       "      <td>235.0</td>\n",
       "      <td>NaN</td>\n",
       "    </tr>\n",
       "    <tr>\n",
       "      <td>407247</td>\n",
       "      <td>163.93</td>\n",
       "      <td>165.93</td>\n",
       "      <td>647</td>\n",
       "      <td>56</td>\n",
       "      <td>2.0</td>\n",
       "      <td>1</td>\n",
       "      <td>0</td>\n",
       "      <td>0</td>\n",
       "      <td>0</td>\n",
       "      <td>0</td>\n",
       "      <td>0</td>\n",
       "      <td>0</td>\n",
       "      <td>0</td>\n",
       "      <td>0</td>\n",
       "      <td>0</td>\n",
       "      <td>0</td>\n",
       "      <td>0</td>\n",
       "      <td>0</td>\n",
       "      <td>0</td>\n",
       "      <td>0</td>\n",
       "      <td>1</td>\n",
       "      <td>0</td>\n",
       "      <td>0</td>\n",
       "      <td>0</td>\n",
       "      <td>0</td>\n",
       "      <td>1</td>\n",
       "      <td>0</td>\n",
       "      <td>329.86</td>\n",
       "      <td>1</td>\n",
       "      <td>0.071429</td>\n",
       "      <td>3.741657</td>\n",
       "      <td>14.0</td>\n",
       "      <td>1</td>\n",
       "      <td>1</td>\n",
       "      <td>705.0</td>\n",
       "      <td>1.687778</td>\n",
       "      <td>235.0</td>\n",
       "      <td>NaN</td>\n",
       "    </tr>\n",
       "  </tbody>\n",
       "</table>\n",
       "</div>"
      ],
      "text/plain": [
       "        checkout_price  base_price  city_code  region_code  op_area  \\\n",
       "407243          149.44      149.44        647           56      2.0   \n",
       "407244          150.41      148.41        647           56      2.0   \n",
       "407245          150.38      151.38        647           56      2.0   \n",
       "407246          321.13      319.13        647           56      2.0   \n",
       "407247          163.93      165.93        647           56      2.0   \n",
       "\n",
       "        Beverages  Biryani  Desert  Extras  Fish  Other Snacks  Pasta  Pizza  \\\n",
       "407243          1        0       0       0     0             0      0      0   \n",
       "407244          1        0       0       0     0             0      0      0   \n",
       "407245          1        0       0       0     0             0      0      0   \n",
       "407246          1        0       0       0     0             0      0      0   \n",
       "407247          1        0       0       0     0             0      0      0   \n",
       "\n",
       "        Rice Bowl  Salad  Sandwich  Seafood  Soup  Starters  Continental  \\\n",
       "407243          0      0         0        0     0         0            0   \n",
       "407244          0      0         0        0     0         0            0   \n",
       "407245          0      0         0        0     0         0            0   \n",
       "407246          0      0         0        0     0         0            0   \n",
       "407247          0      0         0        0     0         0            0   \n",
       "\n",
       "        Indian  Italian  Thai  TYPE_A  TYPE_B  TYPE_C  marketing  total_cost  \\\n",
       "407243       0        0     1       0       0       1          0      298.88   \n",
       "407244       0        0     1       0       0       1          0      298.82   \n",
       "407245       0        0     1       0       0       1          0      301.76   \n",
       "407246       1        0     0       0       0       1          0      640.26   \n",
       "407247       1        0     0       0       0       1          0      329.86   \n",
       "\n",
       "        dish_sum  dish_mean  dish_skew  dish_kurt  cusine  type   code  \\\n",
       "407243         1   0.071429   3.741657       14.0       1     1  705.0   \n",
       "407244         1   0.071429   3.741657       14.0       1     1  705.0   \n",
       "407245         1   0.071429   3.741657       14.0       1     1  705.0   \n",
       "407246         1   0.071429   3.741657       14.0       1     1  705.0   \n",
       "407247         1   0.071429   3.741657       14.0       1     1  705.0   \n",
       "\n",
       "        code_skew  code_mean  code_kurt  \n",
       "407243   1.687778      235.0        NaN  \n",
       "407244   1.687778      235.0        NaN  \n",
       "407245   1.687778      235.0        NaN  \n",
       "407246   1.687778      235.0        NaN  \n",
       "407247   1.687778      235.0        NaN  "
      ]
     },
     "execution_count": 85,
     "metadata": {},
     "output_type": "execute_result"
    }
   ],
   "source": [
    "X_test.head()"
   ]
  },
  {
   "cell_type": "code",
   "execution_count": 86,
   "metadata": {},
   "outputs": [
    {
     "data": {
      "text/html": [
       "<div>\n",
       "<style scoped>\n",
       "    .dataframe tbody tr th:only-of-type {\n",
       "        vertical-align: middle;\n",
       "    }\n",
       "\n",
       "    .dataframe tbody tr th {\n",
       "        vertical-align: top;\n",
       "    }\n",
       "\n",
       "    .dataframe thead th {\n",
       "        text-align: right;\n",
       "    }\n",
       "</style>\n",
       "<table border=\"1\" class=\"dataframe\">\n",
       "  <thead>\n",
       "    <tr style=\"text-align: right;\">\n",
       "      <th></th>\n",
       "      <th>checkout_price</th>\n",
       "      <th>base_price</th>\n",
       "      <th>city_code</th>\n",
       "      <th>region_code</th>\n",
       "      <th>op_area</th>\n",
       "      <th>Beverages</th>\n",
       "      <th>Biryani</th>\n",
       "      <th>Desert</th>\n",
       "      <th>Extras</th>\n",
       "      <th>Fish</th>\n",
       "      <th>Other Snacks</th>\n",
       "      <th>Pasta</th>\n",
       "      <th>Pizza</th>\n",
       "      <th>Rice Bowl</th>\n",
       "      <th>Salad</th>\n",
       "      <th>Sandwich</th>\n",
       "      <th>Seafood</th>\n",
       "      <th>Soup</th>\n",
       "      <th>Starters</th>\n",
       "      <th>Continental</th>\n",
       "      <th>Indian</th>\n",
       "      <th>Italian</th>\n",
       "      <th>Thai</th>\n",
       "      <th>TYPE_A</th>\n",
       "      <th>TYPE_B</th>\n",
       "      <th>TYPE_C</th>\n",
       "      <th>marketing</th>\n",
       "      <th>total_cost</th>\n",
       "      <th>dish_sum</th>\n",
       "      <th>dish_mean</th>\n",
       "      <th>dish_skew</th>\n",
       "      <th>dish_kurt</th>\n",
       "      <th>cusine</th>\n",
       "      <th>type</th>\n",
       "      <th>code</th>\n",
       "      <th>code_skew</th>\n",
       "      <th>code_mean</th>\n",
       "      <th>code_kurt</th>\n",
       "    </tr>\n",
       "  </thead>\n",
       "  <tbody>\n",
       "    <tr>\n",
       "      <td>0</td>\n",
       "      <td>158.11</td>\n",
       "      <td>159.11</td>\n",
       "      <td>647</td>\n",
       "      <td>56</td>\n",
       "      <td>2.0</td>\n",
       "      <td>1</td>\n",
       "      <td>0</td>\n",
       "      <td>0</td>\n",
       "      <td>0</td>\n",
       "      <td>0</td>\n",
       "      <td>0</td>\n",
       "      <td>0</td>\n",
       "      <td>0</td>\n",
       "      <td>0</td>\n",
       "      <td>0</td>\n",
       "      <td>0</td>\n",
       "      <td>0</td>\n",
       "      <td>0</td>\n",
       "      <td>0</td>\n",
       "      <td>0</td>\n",
       "      <td>0</td>\n",
       "      <td>0</td>\n",
       "      <td>1</td>\n",
       "      <td>0</td>\n",
       "      <td>0</td>\n",
       "      <td>1</td>\n",
       "      <td>0</td>\n",
       "      <td>317.22</td>\n",
       "      <td>1</td>\n",
       "      <td>0.071429</td>\n",
       "      <td>3.741657</td>\n",
       "      <td>14.0</td>\n",
       "      <td>1</td>\n",
       "      <td>1</td>\n",
       "      <td>705.0</td>\n",
       "      <td>1.687778</td>\n",
       "      <td>235.000000</td>\n",
       "      <td>NaN</td>\n",
       "    </tr>\n",
       "    <tr>\n",
       "      <td>1</td>\n",
       "      <td>160.11</td>\n",
       "      <td>159.11</td>\n",
       "      <td>647</td>\n",
       "      <td>56</td>\n",
       "      <td>2.0</td>\n",
       "      <td>1</td>\n",
       "      <td>0</td>\n",
       "      <td>0</td>\n",
       "      <td>0</td>\n",
       "      <td>0</td>\n",
       "      <td>0</td>\n",
       "      <td>0</td>\n",
       "      <td>0</td>\n",
       "      <td>0</td>\n",
       "      <td>0</td>\n",
       "      <td>0</td>\n",
       "      <td>0</td>\n",
       "      <td>0</td>\n",
       "      <td>0</td>\n",
       "      <td>0</td>\n",
       "      <td>0</td>\n",
       "      <td>0</td>\n",
       "      <td>1</td>\n",
       "      <td>0</td>\n",
       "      <td>0</td>\n",
       "      <td>1</td>\n",
       "      <td>0</td>\n",
       "      <td>319.22</td>\n",
       "      <td>1</td>\n",
       "      <td>0.071429</td>\n",
       "      <td>3.741657</td>\n",
       "      <td>14.0</td>\n",
       "      <td>1</td>\n",
       "      <td>1</td>\n",
       "      <td>705.0</td>\n",
       "      <td>1.687778</td>\n",
       "      <td>235.000000</td>\n",
       "      <td>NaN</td>\n",
       "    </tr>\n",
       "    <tr>\n",
       "      <td>2</td>\n",
       "      <td>157.14</td>\n",
       "      <td>159.14</td>\n",
       "      <td>647</td>\n",
       "      <td>56</td>\n",
       "      <td>2.0</td>\n",
       "      <td>1</td>\n",
       "      <td>0</td>\n",
       "      <td>0</td>\n",
       "      <td>0</td>\n",
       "      <td>0</td>\n",
       "      <td>0</td>\n",
       "      <td>0</td>\n",
       "      <td>0</td>\n",
       "      <td>0</td>\n",
       "      <td>0</td>\n",
       "      <td>0</td>\n",
       "      <td>0</td>\n",
       "      <td>0</td>\n",
       "      <td>0</td>\n",
       "      <td>0</td>\n",
       "      <td>0</td>\n",
       "      <td>0</td>\n",
       "      <td>1</td>\n",
       "      <td>0</td>\n",
       "      <td>0</td>\n",
       "      <td>1</td>\n",
       "      <td>0</td>\n",
       "      <td>316.28</td>\n",
       "      <td>1</td>\n",
       "      <td>0.071429</td>\n",
       "      <td>3.741657</td>\n",
       "      <td>14.0</td>\n",
       "      <td>1</td>\n",
       "      <td>1</td>\n",
       "      <td>705.0</td>\n",
       "      <td>1.687778</td>\n",
       "      <td>235.000000</td>\n",
       "      <td>NaN</td>\n",
       "    </tr>\n",
       "    <tr>\n",
       "      <td>3</td>\n",
       "      <td>162.02</td>\n",
       "      <td>162.02</td>\n",
       "      <td>647</td>\n",
       "      <td>56</td>\n",
       "      <td>2.0</td>\n",
       "      <td>1</td>\n",
       "      <td>0</td>\n",
       "      <td>0</td>\n",
       "      <td>0</td>\n",
       "      <td>0</td>\n",
       "      <td>0</td>\n",
       "      <td>0</td>\n",
       "      <td>0</td>\n",
       "      <td>0</td>\n",
       "      <td>0</td>\n",
       "      <td>0</td>\n",
       "      <td>0</td>\n",
       "      <td>0</td>\n",
       "      <td>0</td>\n",
       "      <td>0</td>\n",
       "      <td>1</td>\n",
       "      <td>0</td>\n",
       "      <td>0</td>\n",
       "      <td>0</td>\n",
       "      <td>0</td>\n",
       "      <td>1</td>\n",
       "      <td>0</td>\n",
       "      <td>324.04</td>\n",
       "      <td>1</td>\n",
       "      <td>0.071429</td>\n",
       "      <td>3.741657</td>\n",
       "      <td>14.0</td>\n",
       "      <td>1</td>\n",
       "      <td>1</td>\n",
       "      <td>705.0</td>\n",
       "      <td>1.687778</td>\n",
       "      <td>235.000000</td>\n",
       "      <td>NaN</td>\n",
       "    </tr>\n",
       "    <tr>\n",
       "      <td>4</td>\n",
       "      <td>163.93</td>\n",
       "      <td>163.93</td>\n",
       "      <td>647</td>\n",
       "      <td>56</td>\n",
       "      <td>2.0</td>\n",
       "      <td>1</td>\n",
       "      <td>0</td>\n",
       "      <td>0</td>\n",
       "      <td>0</td>\n",
       "      <td>0</td>\n",
       "      <td>0</td>\n",
       "      <td>0</td>\n",
       "      <td>0</td>\n",
       "      <td>0</td>\n",
       "      <td>0</td>\n",
       "      <td>0</td>\n",
       "      <td>0</td>\n",
       "      <td>0</td>\n",
       "      <td>0</td>\n",
       "      <td>0</td>\n",
       "      <td>1</td>\n",
       "      <td>0</td>\n",
       "      <td>0</td>\n",
       "      <td>0</td>\n",
       "      <td>0</td>\n",
       "      <td>1</td>\n",
       "      <td>0</td>\n",
       "      <td>327.86</td>\n",
       "      <td>1</td>\n",
       "      <td>0.071429</td>\n",
       "      <td>3.741657</td>\n",
       "      <td>14.0</td>\n",
       "      <td>1</td>\n",
       "      <td>1</td>\n",
       "      <td>705.0</td>\n",
       "      <td>1.687778</td>\n",
       "      <td>235.000000</td>\n",
       "      <td>NaN</td>\n",
       "    </tr>\n",
       "    <tr>\n",
       "      <td>...</td>\n",
       "      <td>...</td>\n",
       "      <td>...</td>\n",
       "      <td>...</td>\n",
       "      <td>...</td>\n",
       "      <td>...</td>\n",
       "      <td>...</td>\n",
       "      <td>...</td>\n",
       "      <td>...</td>\n",
       "      <td>...</td>\n",
       "      <td>...</td>\n",
       "      <td>...</td>\n",
       "      <td>...</td>\n",
       "      <td>...</td>\n",
       "      <td>...</td>\n",
       "      <td>...</td>\n",
       "      <td>...</td>\n",
       "      <td>...</td>\n",
       "      <td>...</td>\n",
       "      <td>...</td>\n",
       "      <td>...</td>\n",
       "      <td>...</td>\n",
       "      <td>...</td>\n",
       "      <td>...</td>\n",
       "      <td>...</td>\n",
       "      <td>...</td>\n",
       "      <td>...</td>\n",
       "      <td>...</td>\n",
       "      <td>...</td>\n",
       "      <td>...</td>\n",
       "      <td>...</td>\n",
       "      <td>...</td>\n",
       "      <td>...</td>\n",
       "      <td>...</td>\n",
       "      <td>...</td>\n",
       "      <td>...</td>\n",
       "      <td>...</td>\n",
       "      <td>...</td>\n",
       "      <td>...</td>\n",
       "    </tr>\n",
       "    <tr>\n",
       "      <td>32568</td>\n",
       "      <td>482.09</td>\n",
       "      <td>484.09</td>\n",
       "      <td>473</td>\n",
       "      <td>77</td>\n",
       "      <td>4.5</td>\n",
       "      <td>0</td>\n",
       "      <td>0</td>\n",
       "      <td>1</td>\n",
       "      <td>0</td>\n",
       "      <td>0</td>\n",
       "      <td>0</td>\n",
       "      <td>0</td>\n",
       "      <td>0</td>\n",
       "      <td>0</td>\n",
       "      <td>0</td>\n",
       "      <td>0</td>\n",
       "      <td>0</td>\n",
       "      <td>0</td>\n",
       "      <td>0</td>\n",
       "      <td>0</td>\n",
       "      <td>1</td>\n",
       "      <td>0</td>\n",
       "      <td>0</td>\n",
       "      <td>1</td>\n",
       "      <td>0</td>\n",
       "      <td>0</td>\n",
       "      <td>0</td>\n",
       "      <td>966.18</td>\n",
       "      <td>1</td>\n",
       "      <td>0.071429</td>\n",
       "      <td>3.741657</td>\n",
       "      <td>14.0</td>\n",
       "      <td>1</td>\n",
       "      <td>1</td>\n",
       "      <td>554.5</td>\n",
       "      <td>1.572390</td>\n",
       "      <td>184.833333</td>\n",
       "      <td>NaN</td>\n",
       "    </tr>\n",
       "    <tr>\n",
       "      <td>32569</td>\n",
       "      <td>483.09</td>\n",
       "      <td>483.09</td>\n",
       "      <td>473</td>\n",
       "      <td>77</td>\n",
       "      <td>4.5</td>\n",
       "      <td>0</td>\n",
       "      <td>0</td>\n",
       "      <td>1</td>\n",
       "      <td>0</td>\n",
       "      <td>0</td>\n",
       "      <td>0</td>\n",
       "      <td>0</td>\n",
       "      <td>0</td>\n",
       "      <td>0</td>\n",
       "      <td>0</td>\n",
       "      <td>0</td>\n",
       "      <td>0</td>\n",
       "      <td>0</td>\n",
       "      <td>0</td>\n",
       "      <td>0</td>\n",
       "      <td>1</td>\n",
       "      <td>0</td>\n",
       "      <td>0</td>\n",
       "      <td>1</td>\n",
       "      <td>0</td>\n",
       "      <td>0</td>\n",
       "      <td>0</td>\n",
       "      <td>966.18</td>\n",
       "      <td>1</td>\n",
       "      <td>0.071429</td>\n",
       "      <td>3.741657</td>\n",
       "      <td>14.0</td>\n",
       "      <td>1</td>\n",
       "      <td>1</td>\n",
       "      <td>554.5</td>\n",
       "      <td>1.572390</td>\n",
       "      <td>184.833333</td>\n",
       "      <td>NaN</td>\n",
       "    </tr>\n",
       "    <tr>\n",
       "      <td>32570</td>\n",
       "      <td>322.07</td>\n",
       "      <td>323.07</td>\n",
       "      <td>473</td>\n",
       "      <td>77</td>\n",
       "      <td>4.5</td>\n",
       "      <td>0</td>\n",
       "      <td>0</td>\n",
       "      <td>0</td>\n",
       "      <td>0</td>\n",
       "      <td>0</td>\n",
       "      <td>0</td>\n",
       "      <td>0</td>\n",
       "      <td>0</td>\n",
       "      <td>0</td>\n",
       "      <td>1</td>\n",
       "      <td>0</td>\n",
       "      <td>0</td>\n",
       "      <td>0</td>\n",
       "      <td>0</td>\n",
       "      <td>0</td>\n",
       "      <td>0</td>\n",
       "      <td>1</td>\n",
       "      <td>0</td>\n",
       "      <td>1</td>\n",
       "      <td>0</td>\n",
       "      <td>0</td>\n",
       "      <td>0</td>\n",
       "      <td>645.14</td>\n",
       "      <td>1</td>\n",
       "      <td>0.071429</td>\n",
       "      <td>3.741657</td>\n",
       "      <td>14.0</td>\n",
       "      <td>1</td>\n",
       "      <td>1</td>\n",
       "      <td>554.5</td>\n",
       "      <td>1.572390</td>\n",
       "      <td>184.833333</td>\n",
       "      <td>NaN</td>\n",
       "    </tr>\n",
       "    <tr>\n",
       "      <td>32571</td>\n",
       "      <td>322.07</td>\n",
       "      <td>323.07</td>\n",
       "      <td>473</td>\n",
       "      <td>77</td>\n",
       "      <td>4.5</td>\n",
       "      <td>0</td>\n",
       "      <td>0</td>\n",
       "      <td>0</td>\n",
       "      <td>0</td>\n",
       "      <td>0</td>\n",
       "      <td>0</td>\n",
       "      <td>0</td>\n",
       "      <td>0</td>\n",
       "      <td>0</td>\n",
       "      <td>1</td>\n",
       "      <td>0</td>\n",
       "      <td>0</td>\n",
       "      <td>0</td>\n",
       "      <td>0</td>\n",
       "      <td>0</td>\n",
       "      <td>0</td>\n",
       "      <td>1</td>\n",
       "      <td>0</td>\n",
       "      <td>1</td>\n",
       "      <td>0</td>\n",
       "      <td>0</td>\n",
       "      <td>0</td>\n",
       "      <td>645.14</td>\n",
       "      <td>1</td>\n",
       "      <td>0.071429</td>\n",
       "      <td>3.741657</td>\n",
       "      <td>14.0</td>\n",
       "      <td>1</td>\n",
       "      <td>1</td>\n",
       "      <td>554.5</td>\n",
       "      <td>1.572390</td>\n",
       "      <td>184.833333</td>\n",
       "      <td>NaN</td>\n",
       "    </tr>\n",
       "    <tr>\n",
       "      <td>32572</td>\n",
       "      <td>276.45</td>\n",
       "      <td>276.45</td>\n",
       "      <td>473</td>\n",
       "      <td>77</td>\n",
       "      <td>4.5</td>\n",
       "      <td>0</td>\n",
       "      <td>0</td>\n",
       "      <td>0</td>\n",
       "      <td>0</td>\n",
       "      <td>0</td>\n",
       "      <td>0</td>\n",
       "      <td>0</td>\n",
       "      <td>0</td>\n",
       "      <td>0</td>\n",
       "      <td>1</td>\n",
       "      <td>0</td>\n",
       "      <td>0</td>\n",
       "      <td>0</td>\n",
       "      <td>0</td>\n",
       "      <td>0</td>\n",
       "      <td>0</td>\n",
       "      <td>1</td>\n",
       "      <td>0</td>\n",
       "      <td>1</td>\n",
       "      <td>0</td>\n",
       "      <td>0</td>\n",
       "      <td>0</td>\n",
       "      <td>552.90</td>\n",
       "      <td>1</td>\n",
       "      <td>0.071429</td>\n",
       "      <td>3.741657</td>\n",
       "      <td>14.0</td>\n",
       "      <td>1</td>\n",
       "      <td>1</td>\n",
       "      <td>554.5</td>\n",
       "      <td>1.572390</td>\n",
       "      <td>184.833333</td>\n",
       "      <td>NaN</td>\n",
       "    </tr>\n",
       "  </tbody>\n",
       "</table>\n",
       "<p>32573 rows × 38 columns</p>\n",
       "</div>"
      ],
      "text/plain": [
       "       checkout_price  base_price  city_code  region_code  op_area  Beverages  \\\n",
       "0              158.11      159.11        647           56      2.0          1   \n",
       "1              160.11      159.11        647           56      2.0          1   \n",
       "2              157.14      159.14        647           56      2.0          1   \n",
       "3              162.02      162.02        647           56      2.0          1   \n",
       "4              163.93      163.93        647           56      2.0          1   \n",
       "...               ...         ...        ...          ...      ...        ...   \n",
       "32568          482.09      484.09        473           77      4.5          0   \n",
       "32569          483.09      483.09        473           77      4.5          0   \n",
       "32570          322.07      323.07        473           77      4.5          0   \n",
       "32571          322.07      323.07        473           77      4.5          0   \n",
       "32572          276.45      276.45        473           77      4.5          0   \n",
       "\n",
       "       Biryani  Desert  Extras  Fish  Other Snacks  Pasta  Pizza  Rice Bowl  \\\n",
       "0            0       0       0     0             0      0      0          0   \n",
       "1            0       0       0     0             0      0      0          0   \n",
       "2            0       0       0     0             0      0      0          0   \n",
       "3            0       0       0     0             0      0      0          0   \n",
       "4            0       0       0     0             0      0      0          0   \n",
       "...        ...     ...     ...   ...           ...    ...    ...        ...   \n",
       "32568        0       1       0     0             0      0      0          0   \n",
       "32569        0       1       0     0             0      0      0          0   \n",
       "32570        0       0       0     0             0      0      0          0   \n",
       "32571        0       0       0     0             0      0      0          0   \n",
       "32572        0       0       0     0             0      0      0          0   \n",
       "\n",
       "       Salad  Sandwich  Seafood  Soup  Starters  Continental  Indian  Italian  \\\n",
       "0          0         0        0     0         0            0       0        0   \n",
       "1          0         0        0     0         0            0       0        0   \n",
       "2          0         0        0     0         0            0       0        0   \n",
       "3          0         0        0     0         0            0       1        0   \n",
       "4          0         0        0     0         0            0       1        0   \n",
       "...      ...       ...      ...   ...       ...          ...     ...      ...   \n",
       "32568      0         0        0     0         0            0       1        0   \n",
       "32569      0         0        0     0         0            0       1        0   \n",
       "32570      1         0        0     0         0            0       0        1   \n",
       "32571      1         0        0     0         0            0       0        1   \n",
       "32572      1         0        0     0         0            0       0        1   \n",
       "\n",
       "       Thai  TYPE_A  TYPE_B  TYPE_C  marketing  total_cost  dish_sum  \\\n",
       "0         1       0       0       1          0      317.22         1   \n",
       "1         1       0       0       1          0      319.22         1   \n",
       "2         1       0       0       1          0      316.28         1   \n",
       "3         0       0       0       1          0      324.04         1   \n",
       "4         0       0       0       1          0      327.86         1   \n",
       "...     ...     ...     ...     ...        ...         ...       ...   \n",
       "32568     0       1       0       0          0      966.18         1   \n",
       "32569     0       1       0       0          0      966.18         1   \n",
       "32570     0       1       0       0          0      645.14         1   \n",
       "32571     0       1       0       0          0      645.14         1   \n",
       "32572     0       1       0       0          0      552.90         1   \n",
       "\n",
       "       dish_mean  dish_skew  dish_kurt  cusine  type   code  code_skew  \\\n",
       "0       0.071429   3.741657       14.0       1     1  705.0   1.687778   \n",
       "1       0.071429   3.741657       14.0       1     1  705.0   1.687778   \n",
       "2       0.071429   3.741657       14.0       1     1  705.0   1.687778   \n",
       "3       0.071429   3.741657       14.0       1     1  705.0   1.687778   \n",
       "4       0.071429   3.741657       14.0       1     1  705.0   1.687778   \n",
       "...          ...        ...        ...     ...   ...    ...        ...   \n",
       "32568   0.071429   3.741657       14.0       1     1  554.5   1.572390   \n",
       "32569   0.071429   3.741657       14.0       1     1  554.5   1.572390   \n",
       "32570   0.071429   3.741657       14.0       1     1  554.5   1.572390   \n",
       "32571   0.071429   3.741657       14.0       1     1  554.5   1.572390   \n",
       "32572   0.071429   3.741657       14.0       1     1  554.5   1.572390   \n",
       "\n",
       "        code_mean  code_kurt  \n",
       "0      235.000000        NaN  \n",
       "1      235.000000        NaN  \n",
       "2      235.000000        NaN  \n",
       "3      235.000000        NaN  \n",
       "4      235.000000        NaN  \n",
       "...           ...        ...  \n",
       "32568  184.833333        NaN  \n",
       "32569  184.833333        NaN  \n",
       "32570  184.833333        NaN  \n",
       "32571  184.833333        NaN  \n",
       "32572  184.833333        NaN  \n",
       "\n",
       "[32573 rows x 38 columns]"
      ]
     },
     "execution_count": 86,
     "metadata": {},
     "output_type": "execute_result"
    }
   ],
   "source": [
    "test"
   ]
  },
  {
   "cell_type": "code",
   "execution_count": 87,
   "metadata": {},
   "outputs": [
    {
     "name": "stdout",
     "output_type": "stream",
     "text": [
      "<class 'pandas.core.frame.DataFrame'>\n",
      "Int64Index: 32929 entries, 407243 to 440171\n",
      "Data columns (total 38 columns):\n",
      "checkout_price    32929 non-null float64\n",
      "base_price        32929 non-null float64\n",
      "city_code         32929 non-null int64\n",
      "region_code       32929 non-null int64\n",
      "op_area           32929 non-null float64\n",
      "Beverages         32929 non-null uint8\n",
      "Biryani           32929 non-null uint8\n",
      "Desert            32929 non-null uint8\n",
      "Extras            32929 non-null uint8\n",
      "Fish              32929 non-null uint8\n",
      "Other Snacks      32929 non-null uint8\n",
      "Pasta             32929 non-null uint8\n",
      "Pizza             32929 non-null uint8\n",
      "Rice Bowl         32929 non-null uint8\n",
      "Salad             32929 non-null uint8\n",
      "Sandwich          32929 non-null uint8\n",
      "Seafood           32929 non-null uint8\n",
      "Soup              32929 non-null uint8\n",
      "Starters          32929 non-null uint8\n",
      "Continental       32929 non-null uint8\n",
      "Indian            32929 non-null uint8\n",
      "Italian           32929 non-null uint8\n",
      "Thai              32929 non-null uint8\n",
      "TYPE_A            32929 non-null uint8\n",
      "TYPE_B            32929 non-null uint8\n",
      "TYPE_C            32929 non-null uint8\n",
      "marketing         32929 non-null int64\n",
      "total_cost        32929 non-null float64\n",
      "dish_sum          32929 non-null int64\n",
      "dish_mean         32929 non-null float64\n",
      "dish_skew         32929 non-null float64\n",
      "dish_kurt         32929 non-null float64\n",
      "cusine            32929 non-null int64\n",
      "type              32929 non-null int64\n",
      "code              32929 non-null float64\n",
      "code_skew         32929 non-null float64\n",
      "code_mean         32929 non-null float64\n",
      "code_kurt         0 non-null float64\n",
      "dtypes: float64(11), int64(6), uint8(21)\n",
      "memory usage: 5.2 MB\n"
     ]
    }
   ],
   "source": [
    "X_test.info()"
   ]
  },
  {
   "cell_type": "code",
   "execution_count": 88,
   "metadata": {},
   "outputs": [
    {
     "name": "stdout",
     "output_type": "stream",
     "text": [
      "[16:07:33] WARNING: C:/Users/Administrator/workspace/xgboost-win64_release_1.1.0/src/objective/regression_obj.cu:168: reg:linear is now deprecated in favor of reg:squarederror.\n",
      "[16:07:33] WARNING: C:\\Users\\Administrator\\workspace\\xgboost-win64_release_1.1.0\\src\\learner.cc:480: \n",
      "Parameters: { silent } might not be used.\n",
      "\n",
      "  This may not be accurate due to some parameters are only used in language bindings but\n",
      "  passed down to XGBoost core.  Or some parameters are not used but slip through this\n",
      "  verification. Please open an issue if you find above cases.\n",
      "\n",
      "\n",
      "[16:07:49] WARNING: C:/Users/Administrator/workspace/xgboost-win64_release_1.1.0/src/objective/regression_obj.cu:168: reg:linear is now deprecated in favor of reg:squarederror.\n"
     ]
    },
    {
     "data": {
      "text/plain": [
       "XGBRegressor(base_score=0.5, booster='gbtree', colsample_bylevel=1,\n",
       "             colsample_bynode=1, colsample_bytree=1, eval_metric='rmse',\n",
       "             gamma=0, gpu_id=-1, importance_type='gain',\n",
       "             interaction_constraints='', learning_rate=0.5, max_delta_step=0,\n",
       "             max_depth=9, min_child_weight=1, missing=nan,\n",
       "             monotone_constraints='()', n_estimators=100, n_jobs=0,\n",
       "             num_parallel_tree=1, objective='reg:linear', random_state=4,\n",
       "             reg_alpha=0, reg_lambda=1, scale_pos_weight=1, seed=4, silent=1,\n",
       "             subsample=1, tree_method='exact', validate_parameters=1,\n",
       "             verbosity=None)"
      ]
     },
     "execution_count": 88,
     "metadata": {},
     "output_type": "execute_result"
    }
   ],
   "source": [
    "xgb.fit(X_train,Y_train)"
   ]
  },
  {
   "cell_type": "code",
   "execution_count": 89,
   "metadata": {},
   "outputs": [
    {
     "data": {
      "text/plain": [
       "0"
      ]
     },
     "execution_count": 89,
     "metadata": {},
     "output_type": "execute_result"
    }
   ],
   "source": [
    "y_pred=xgb.predict(test)\n",
    "np.sum(y_pred<0)"
   ]
  },
  {
   "cell_type": "code",
   "execution_count": 90,
   "metadata": {},
   "outputs": [
    {
     "data": {
      "text/plain": [
       "array([4.805252 , 4.7813234, 4.7557173, ..., 5.230333 , 5.230333 ,\n",
       "       5.3805118], dtype=float32)"
      ]
     },
     "execution_count": 90,
     "metadata": {},
     "output_type": "execute_result"
    }
   ],
   "source": [
    "y_pred"
   ]
  },
  {
   "cell_type": "code",
   "execution_count": 91,
   "metadata": {},
   "outputs": [
    {
     "data": {
      "text/plain": [
       "array([121, 118, 115, ..., 185, 185, 216], dtype=int64)"
      ]
     },
     "execution_count": 91,
     "metadata": {},
     "output_type": "execute_result"
    }
   ],
   "source": [
    "y_pred=np.expm1(y_pred).astype('int64')\n",
    "y_pred"
   ]
  },
  {
   "cell_type": "code",
   "execution_count": 93,
   "metadata": {},
   "outputs": [],
   "source": [
    "submission=pd.read_csv(\"sample_submission_hSlSoT6.csv\")\n",
    "submission.head()\n",
    "Pred_id=full_test.id\n",
    "submission['id']=Pred_id\n",
    "submission['num_orders']=y_pred\n",
    "pd.DataFrame(submission, columns=['id','num_orders']).to_csv('Results.csv',index=False)"
   ]
  }
 ],
 "metadata": {
  "colab": {
   "collapsed_sections": [],
   "name": "exploredata.ipynb",
   "provenance": []
  },
  "kernelspec": {
   "display_name": "Python 3",
   "language": "python",
   "name": "python3"
  },
  "language_info": {
   "codemirror_mode": {
    "name": "ipython",
    "version": 3
   },
   "file_extension": ".py",
   "mimetype": "text/x-python",
   "name": "python",
   "nbconvert_exporter": "python",
   "pygments_lexer": "ipython3",
   "version": "3.7.4"
  }
 },
 "nbformat": 4,
 "nbformat_minor": 1
}
